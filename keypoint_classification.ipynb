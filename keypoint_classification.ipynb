{
 "cells": [
  {
   "cell_type": "code",
   "execution_count": 1,
   "metadata": {},
   "outputs": [
    {
     "name": "stdout",
     "output_type": "stream",
     "text": [
      "Requirement already satisfied: scikit-learn in c:\\users\\mohan\\appdata\\local\\programs\\python\\python39\\lib\\site-packages (1.4.1.post1)\n",
      "Requirement already satisfied: numpy<2.0,>=1.19.5 in c:\\users\\mohan\\appdata\\local\\programs\\python\\python39\\lib\\site-packages (from scikit-learn) (1.24.2)\n",
      "Requirement already satisfied: scipy>=1.6.0 in c:\\users\\mohan\\appdata\\local\\programs\\python\\python39\\lib\\site-packages (from scikit-learn) (1.11.4)\n",
      "Requirement already satisfied: joblib>=1.2.0 in c:\\users\\mohan\\appdata\\local\\programs\\python\\python39\\lib\\site-packages (from scikit-learn) (1.3.2)\n",
      "Requirement already satisfied: threadpoolctl>=2.0.0 in c:\\users\\mohan\\appdata\\local\\programs\\python\\python39\\lib\\site-packages (from scikit-learn) (3.3.0)\n",
      "Note: you may need to restart the kernel to use updated packages.\n"
     ]
    },
    {
     "name": "stderr",
     "output_type": "stream",
     "text": [
      "\n",
      "[notice] A new release of pip is available: 23.3.2 -> 24.0\n",
      "[notice] To update, run: python.exe -m pip install --upgrade pip\n"
     ]
    }
   ],
   "source": [
    "pip install scikit-learn"
   ]
  },
  {
   "cell_type": "code",
   "execution_count": 2,
   "metadata": {
    "id": "igMyGnjE9hEp"
   },
   "outputs": [
    {
     "name": "stdout",
     "output_type": "stream",
     "text": [
      "WARNING:tensorflow:From C:\\Users\\mohan\\AppData\\Local\\Programs\\Python\\Python39\\lib\\site-packages\\keras\\src\\losses.py:2976: The name tf.losses.sparse_softmax_cross_entropy is deprecated. Please use tf.compat.v1.losses.sparse_softmax_cross_entropy instead.\n",
      "\n"
     ]
    }
   ],
   "source": [
    "import csv\n",
    "\n",
    "import numpy as np\n",
    "import tensorflow as tf\n",
    "from sklearn.model_selection import train_test_split\n",
    "\n",
    "RANDOM_SEED = 42"
   ]
  },
  {
   "cell_type": "markdown",
   "metadata": {
    "id": "t2HDvhIu9hEr"
   },
   "source": [
    "# Specify each path"
   ]
  },
  {
   "cell_type": "code",
   "execution_count": 3,
   "metadata": {
    "id": "9NvZP2Zn9hEy"
   },
   "outputs": [],
   "source": [
    "dataset = 'model/keypoint_classifier/keypoint.csv'\n",
    "model_save_path = 'model/keypoint_classifier/keypoint_classifier.hdf5'\n",
    "tflite_save_path = 'model/keypoint_classifier/keypoint_classifier.tflite'"
   ]
  },
  {
   "cell_type": "markdown",
   "metadata": {
    "id": "s5oMH7x19hEz"
   },
   "source": [
    "# Set number of classes"
   ]
  },
  {
   "cell_type": "code",
   "execution_count": 4,
   "metadata": {
    "id": "du4kodXL9hEz"
   },
   "outputs": [],
   "source": [
    "NUM_CLASSES = 33 # Number of the classes used in the training (a-z,I Love You,Thank You,Help,Play,Stop,Hello,Good Morning)"
   ]
  },
  {
   "cell_type": "markdown",
   "metadata": {
    "id": "XjnL0uso9hEz"
   },
   "source": [
    "# Dataset reading"
   ]
  },
  {
   "cell_type": "code",
   "execution_count": 5,
   "metadata": {
    "id": "QT5ZqtEz9hE0"
   },
   "outputs": [],
   "source": [
    "X_dataset = np.loadtxt(dataset, delimiter=',', dtype='float32', usecols=list(range(1, (21 * 2) + 1)))"
   ]
  },
  {
   "cell_type": "code",
   "execution_count": 6,
   "metadata": {
    "id": "QmoKFsp49hE0"
   },
   "outputs": [],
   "source": [
    "y_dataset = np.loadtxt(dataset, delimiter=',', dtype='int32', usecols=(0))"
   ]
  },
  {
   "cell_type": "code",
   "execution_count": 7,
   "metadata": {
    "id": "xQU7JTZ_9hE0"
   },
   "outputs": [],
   "source": [
    "X_train, X_test, y_train, y_test = train_test_split(X_dataset, y_dataset, train_size=0.75, random_state=RANDOM_SEED)"
   ]
  },
  {
   "cell_type": "markdown",
   "metadata": {
    "id": "mxK_lETT9hE0"
   },
   "source": [
    "# Model building"
   ]
  },
  {
   "cell_type": "code",
   "execution_count": 8,
   "metadata": {
    "id": "vHBmUf1t9hE1"
   },
   "outputs": [
    {
     "name": "stdout",
     "output_type": "stream",
     "text": [
      "WARNING:tensorflow:From C:\\Users\\mohan\\AppData\\Local\\Programs\\Python\\Python39\\lib\\site-packages\\keras\\src\\backend.py:1398: The name tf.executing_eagerly_outside_functions is deprecated. Please use tf.compat.v1.executing_eagerly_outside_functions instead.\n",
      "\n"
     ]
    }
   ],
   "source": [
    "model = tf.keras.models.Sequential([\n",
    "    tf.keras.layers.Input((21 * 2, )),\n",
    "    tf.keras.layers.Dropout(0.2),\n",
    "    tf.keras.layers.Dense(20, activation='relu'),\n",
    "    tf.keras.layers.Dropout(0.4),\n",
    "    tf.keras.layers.Dense(10, activation='relu'),\n",
    "    tf.keras.layers.Dense(NUM_CLASSES, activation='softmax')\n",
    "])"
   ]
  },
  {
   "cell_type": "code",
   "execution_count": 9,
   "metadata": {
    "colab": {
     "base_uri": "https://localhost:8080/"
    },
    "id": "ypqky9tc9hE1",
    "outputId": "5db082bb-30e3-4110-bf63-a1ee777ecd46"
   },
   "outputs": [
    {
     "name": "stdout",
     "output_type": "stream",
     "text": [
      "Model: \"sequential\"\n",
      "_________________________________________________________________\n",
      " Layer (type)                Output Shape              Param #   \n",
      "=================================================================\n",
      " dropout (Dropout)           (None, 42)                0         \n",
      "                                                                 \n",
      " dense (Dense)               (None, 20)                860       \n",
      "                                                                 \n",
      " dropout_1 (Dropout)         (None, 20)                0         \n",
      "                                                                 \n",
      " dense_1 (Dense)             (None, 10)                210       \n",
      "                                                                 \n",
      " dense_2 (Dense)             (None, 33)                363       \n",
      "                                                                 \n",
      "=================================================================\n",
      "Total params: 1433 (5.60 KB)\n",
      "Trainable params: 1433 (5.60 KB)\n",
      "Non-trainable params: 0 (0.00 Byte)\n",
      "_________________________________________________________________\n"
     ]
    }
   ],
   "source": [
    "model.summary()  # tf.keras.utils.plot_model(model, show_shapes=True)"
   ]
  },
  {
   "cell_type": "code",
   "execution_count": 10,
   "metadata": {
    "id": "MbMjOflQ9hE1"
   },
   "outputs": [],
   "source": [
    "# Model checkpoint callback\n",
    "cp_callback = tf.keras.callbacks.ModelCheckpoint(\n",
    "    model_save_path, verbose=1, save_weights_only=False)\n",
    "# Callback for early stopping if there is no scope for the improvement in the accuracy\n",
    "es_callback = tf.keras.callbacks.EarlyStopping(patience=20, verbose=1)"
   ]
  },
  {
   "cell_type": "code",
   "execution_count": 11,
   "metadata": {
    "id": "c3Dac0M_9hE2"
   },
   "outputs": [
    {
     "name": "stdout",
     "output_type": "stream",
     "text": [
      "WARNING:tensorflow:From C:\\Users\\mohan\\AppData\\Local\\Programs\\Python\\Python39\\lib\\site-packages\\keras\\src\\optimizers\\__init__.py:309: The name tf.train.Optimizer is deprecated. Please use tf.compat.v1.train.Optimizer instead.\n",
      "\n"
     ]
    }
   ],
   "source": [
    "# Model compilation using the ADAM optimizer\n",
    "model.compile(\n",
    "    optimizer='adam',\n",
    "    loss='sparse_categorical_crossentropy',\n",
    "    metrics=['accuracy']\n",
    ")"
   ]
  },
  {
   "cell_type": "markdown",
   "metadata": {
    "id": "7XI0j1Iu9hE2"
   },
   "source": [
    "# Model training"
   ]
  },
  {
   "cell_type": "code",
   "execution_count": 12,
   "metadata": {
    "colab": {
     "base_uri": "https://localhost:8080/"
    },
    "id": "WirBl-JE9hE3",
    "outputId": "71b30ca2-8294-4d9d-8aa2-800d90d399de",
    "scrolled": true
   },
   "outputs": [
    {
     "name": "stdout",
     "output_type": "stream",
     "text": [
      "Epoch 1/1000\n",
      "WARNING:tensorflow:From C:\\Users\\mohan\\AppData\\Local\\Programs\\Python\\Python39\\lib\\site-packages\\keras\\src\\utils\\tf_utils.py:492: The name tf.ragged.RaggedTensorValue is deprecated. Please use tf.compat.v1.ragged.RaggedTensorValue instead.\n",
      "\n",
      "WARNING:tensorflow:From C:\\Users\\mohan\\AppData\\Local\\Programs\\Python\\Python39\\lib\\site-packages\\keras\\src\\engine\\base_layer_utils.py:384: The name tf.executing_eagerly_outside_functions is deprecated. Please use tf.compat.v1.executing_eagerly_outside_functions instead.\n",
      "\n",
      "73/85 [========================>.....] - ETA: 0s - loss: 3.4316 - accuracy: 0.0539\n",
      "Epoch 1: saving model to model/keypoint_classifier\\keypoint_classifier.hdf5\n",
      "85/85 [==============================] - 3s 11ms/step - loss: 3.4214 - accuracy: 0.0551 - val_loss: 3.2944 - val_accuracy: 0.1113\n",
      "Epoch 2/1000\n",
      "15/85 [====>.........................] - ETA: 0s - loss: 3.2941 - accuracy: 0.0724"
     ]
    },
    {
     "name": "stderr",
     "output_type": "stream",
     "text": [
      "C:\\Users\\mohan\\AppData\\Local\\Programs\\Python\\Python39\\lib\\site-packages\\keras\\src\\engine\\training.py:3103: UserWarning: You are saving your model as an HDF5 file via `model.save()`. This file format is considered legacy. We recommend using instead the native Keras format, e.g. `model.save('my_model.keras')`.\n",
      "  saving_api.save_model(\n"
     ]
    },
    {
     "name": "stdout",
     "output_type": "stream",
     "text": [
      "76/85 [=========================>....] - ETA: 0s - loss: 3.2167 - accuracy: 0.0949\n",
      "Epoch 2: saving model to model/keypoint_classifier\\keypoint_classifier.hdf5\n",
      "85/85 [==============================] - 0s 6ms/step - loss: 3.2035 - accuracy: 0.0984 - val_loss: 2.9970 - val_accuracy: 0.1805\n",
      "Epoch 3/1000\n",
      "75/85 [=========================>....] - ETA: 0s - loss: 2.9793 - accuracy: 0.1558\n",
      "Epoch 3: saving model to model/keypoint_classifier\\keypoint_classifier.hdf5\n",
      "85/85 [==============================] - 0s 6ms/step - loss: 2.9729 - accuracy: 0.1563 - val_loss: 2.7578 - val_accuracy: 0.2264\n",
      "Epoch 4/1000\n",
      "85/85 [==============================] - ETA: 0s - loss: 2.7826 - accuracy: 0.1891\n",
      "Epoch 4: saving model to model/keypoint_classifier\\keypoint_classifier.hdf5\n",
      "85/85 [==============================] - 0s 6ms/step - loss: 2.7826 - accuracy: 0.1891 - val_loss: 2.5500 - val_accuracy: 0.2793\n",
      "Epoch 5/1000\n",
      "83/85 [============================>.] - ETA: 0s - loss: 2.6381 - accuracy: 0.1990\n",
      "Epoch 5: saving model to model/keypoint_classifier\\keypoint_classifier.hdf5\n",
      "85/85 [==============================] - 0s 5ms/step - loss: 2.6378 - accuracy: 0.1994 - val_loss: 2.3972 - val_accuracy: 0.3014\n",
      "Epoch 6/1000\n",
      "79/85 [==========================>...] - ETA: 0s - loss: 2.5262 - accuracy: 0.2321\n",
      "Epoch 6: saving model to model/keypoint_classifier\\keypoint_classifier.hdf5\n",
      "85/85 [==============================] - 1s 6ms/step - loss: 2.5246 - accuracy: 0.2335 - val_loss: 2.2707 - val_accuracy: 0.3427\n",
      "Epoch 7/1000\n",
      "81/85 [===========================>..] - ETA: 0s - loss: 2.4415 - accuracy: 0.2535\n",
      "Epoch 7: saving model to model/keypoint_classifier\\keypoint_classifier.hdf5\n",
      "85/85 [==============================] - 0s 6ms/step - loss: 2.4418 - accuracy: 0.2532 - val_loss: 2.1575 - val_accuracy: 0.3944\n",
      "Epoch 8/1000\n",
      "69/85 [=======================>......] - ETA: 0s - loss: 2.3872 - accuracy: 0.2655\n",
      "Epoch 8: saving model to model/keypoint_classifier\\keypoint_classifier.hdf5\n",
      "85/85 [==============================] - 0s 5ms/step - loss: 2.3724 - accuracy: 0.2685 - val_loss: 2.0521 - val_accuracy: 0.3980\n",
      "Epoch 9/1000\n",
      "70/85 [=======================>......] - ETA: 0s - loss: 2.3008 - accuracy: 0.2903\n",
      "Epoch 9: saving model to model/keypoint_classifier\\keypoint_classifier.hdf5\n",
      "85/85 [==============================] - 0s 6ms/step - loss: 2.2929 - accuracy: 0.2926 - val_loss: 1.9569 - val_accuracy: 0.4572\n",
      "Epoch 10/1000\n",
      "85/85 [==============================] - ETA: 0s - loss: 2.2443 - accuracy: 0.3079\n",
      "Epoch 10: saving model to model/keypoint_classifier\\keypoint_classifier.hdf5\n",
      "85/85 [==============================] - 0s 6ms/step - loss: 2.2443 - accuracy: 0.3079 - val_loss: 1.8624 - val_accuracy: 0.5226\n",
      "Epoch 11/1000\n",
      "75/85 [=========================>....] - ETA: 0s - loss: 2.1903 - accuracy: 0.3241\n",
      "Epoch 11: saving model to model/keypoint_classifier\\keypoint_classifier.hdf5\n",
      "85/85 [==============================] - 1s 6ms/step - loss: 2.1869 - accuracy: 0.3237 - val_loss: 1.7886 - val_accuracy: 0.5417\n",
      "Epoch 12/1000\n",
      "70/85 [=======================>......] - ETA: 0s - loss: 2.1592 - accuracy: 0.3244\n",
      "Epoch 12: saving model to model/keypoint_classifier\\keypoint_classifier.hdf5\n",
      "85/85 [==============================] - 0s 5ms/step - loss: 2.1558 - accuracy: 0.3289 - val_loss: 1.7239 - val_accuracy: 0.5729\n",
      "Epoch 13/1000\n",
      "70/85 [=======================>......] - ETA: 0s - loss: 2.1110 - accuracy: 0.3384\n",
      "Epoch 13: saving model to model/keypoint_classifier\\keypoint_classifier.hdf5\n",
      "85/85 [==============================] - 0s 6ms/step - loss: 2.1013 - accuracy: 0.3409 - val_loss: 1.6714 - val_accuracy: 0.5699\n",
      "Epoch 14/1000\n",
      "85/85 [==============================] - ETA: 0s - loss: 2.0816 - accuracy: 0.3475\n",
      "Epoch 14: saving model to model/keypoint_classifier\\keypoint_classifier.hdf5\n",
      "85/85 [==============================] - 0s 6ms/step - loss: 2.0816 - accuracy: 0.3475 - val_loss: 1.6230 - val_accuracy: 0.5823\n",
      "Epoch 15/1000\n",
      "73/85 [========================>.....] - ETA: 0s - loss: 2.0353 - accuracy: 0.3599\n",
      "Epoch 15: saving model to model/keypoint_classifier\\keypoint_classifier.hdf5\n",
      "85/85 [==============================] - 1s 6ms/step - loss: 2.0298 - accuracy: 0.3631 - val_loss: 1.5693 - val_accuracy: 0.6194\n",
      "Epoch 16/1000\n",
      "80/85 [===========================>..] - ETA: 0s - loss: 2.0217 - accuracy: 0.3619\n",
      "Epoch 16: saving model to model/keypoint_classifier\\keypoint_classifier.hdf5\n",
      "85/85 [==============================] - 0s 6ms/step - loss: 2.0236 - accuracy: 0.3628 - val_loss: 1.5234 - val_accuracy: 0.6070\n",
      "Epoch 17/1000\n",
      "81/85 [===========================>..] - ETA: 0s - loss: 1.9851 - accuracy: 0.3753\n",
      "Epoch 17: saving model to model/keypoint_classifier\\keypoint_classifier.hdf5\n",
      "85/85 [==============================] - 0s 6ms/step - loss: 1.9866 - accuracy: 0.3738 - val_loss: 1.4892 - val_accuracy: 0.6211\n",
      "Epoch 18/1000\n",
      "84/85 [============================>.] - ETA: 0s - loss: 1.9618 - accuracy: 0.3757\n",
      "Epoch 18: saving model to model/keypoint_classifier\\keypoint_classifier.hdf5\n",
      "85/85 [==============================] - 0s 6ms/step - loss: 1.9614 - accuracy: 0.3758 - val_loss: 1.4673 - val_accuracy: 0.6219\n",
      "Epoch 19/1000\n",
      "85/85 [==============================] - ETA: 0s - loss: 1.9535 - accuracy: 0.3778\n",
      "Epoch 19: saving model to model/keypoint_classifier\\keypoint_classifier.hdf5\n",
      "85/85 [==============================] - 0s 5ms/step - loss: 1.9535 - accuracy: 0.3778 - val_loss: 1.4380 - val_accuracy: 0.6399\n",
      "Epoch 20/1000\n",
      "81/85 [===========================>..] - ETA: 0s - loss: 1.9234 - accuracy: 0.3840\n",
      "Epoch 20: saving model to model/keypoint_classifier\\keypoint_classifier.hdf5\n",
      "85/85 [==============================] - 0s 6ms/step - loss: 1.9176 - accuracy: 0.3855 - val_loss: 1.4124 - val_accuracy: 0.6167\n",
      "Epoch 21/1000\n",
      "80/85 [===========================>..] - ETA: 0s - loss: 1.9090 - accuracy: 0.3965\n",
      "Epoch 21: saving model to model/keypoint_classifier\\keypoint_classifier.hdf5\n",
      "85/85 [==============================] - 0s 6ms/step - loss: 1.9173 - accuracy: 0.3951 - val_loss: 1.3848 - val_accuracy: 0.6488\n",
      "Epoch 22/1000\n",
      "82/85 [===========================>..] - ETA: 0s - loss: 1.8931 - accuracy: 0.3977\n",
      "Epoch 22: saving model to model/keypoint_classifier\\keypoint_classifier.hdf5\n",
      "85/85 [==============================] - 0s 6ms/step - loss: 1.8916 - accuracy: 0.3977 - val_loss: 1.3715 - val_accuracy: 0.6582\n",
      "Epoch 23/1000\n",
      "81/85 [===========================>..] - ETA: 0s - loss: 1.8633 - accuracy: 0.4049\n",
      "Epoch 23: saving model to model/keypoint_classifier\\keypoint_classifier.hdf5\n",
      "85/85 [==============================] - 0s 6ms/step - loss: 1.8607 - accuracy: 0.4049 - val_loss: 1.3370 - val_accuracy: 0.6598\n",
      "Epoch 24/1000\n",
      "83/85 [============================>.] - ETA: 0s - loss: 1.8510 - accuracy: 0.4079\n",
      "Epoch 24: saving model to model/keypoint_classifier\\keypoint_classifier.hdf5\n",
      "85/85 [==============================] - 0s 6ms/step - loss: 1.8526 - accuracy: 0.4074 - val_loss: 1.3178 - val_accuracy: 0.6585\n",
      "Epoch 25/1000\n",
      "70/85 [=======================>......] - ETA: 0s - loss: 1.8369 - accuracy: 0.4142\n",
      "Epoch 25: saving model to model/keypoint_classifier\\keypoint_classifier.hdf5\n",
      "85/85 [==============================] - 0s 6ms/step - loss: 1.8421 - accuracy: 0.4110 - val_loss: 1.3048 - val_accuracy: 0.6634\n",
      "Epoch 26/1000\n",
      "81/85 [===========================>..] - ETA: 0s - loss: 1.8476 - accuracy: 0.4057\n",
      "Epoch 26: saving model to model/keypoint_classifier\\keypoint_classifier.hdf5\n",
      "85/85 [==============================] - 0s 6ms/step - loss: 1.8454 - accuracy: 0.4054 - val_loss: 1.3070 - val_accuracy: 0.6513\n",
      "Epoch 27/1000\n",
      "84/85 [============================>.] - ETA: 0s - loss: 1.8339 - accuracy: 0.4194\n",
      "Epoch 27: saving model to model/keypoint_classifier\\keypoint_classifier.hdf5\n",
      "85/85 [==============================] - 0s 5ms/step - loss: 1.8338 - accuracy: 0.4193 - val_loss: 1.2800 - val_accuracy: 0.6543\n",
      "Epoch 28/1000\n",
      "80/85 [===========================>..] - ETA: 0s - loss: 1.8253 - accuracy: 0.4146\n",
      "Epoch 28: saving model to model/keypoint_classifier\\keypoint_classifier.hdf5\n",
      "85/85 [==============================] - 0s 6ms/step - loss: 1.8224 - accuracy: 0.4149 - val_loss: 1.2645 - val_accuracy: 0.6676\n",
      "Epoch 29/1000\n",
      "83/85 [============================>.] - ETA: 0s - loss: 1.7970 - accuracy: 0.4254\n",
      "Epoch 29: saving model to model/keypoint_classifier\\keypoint_classifier.hdf5\n",
      "85/85 [==============================] - 0s 6ms/step - loss: 1.7948 - accuracy: 0.4261 - val_loss: 1.2483 - val_accuracy: 0.6776\n",
      "Epoch 30/1000\n",
      "69/85 [=======================>......] - ETA: 0s - loss: 1.8024 - accuracy: 0.4261\n",
      "Epoch 30: saving model to model/keypoint_classifier\\keypoint_classifier.hdf5\n",
      "85/85 [==============================] - 0s 6ms/step - loss: 1.7998 - accuracy: 0.4255 - val_loss: 1.2473 - val_accuracy: 0.6820\n",
      "Epoch 31/1000\n",
      "71/85 [========================>.....] - ETA: 0s - loss: 1.8096 - accuracy: 0.4211\n",
      "Epoch 31: saving model to model/keypoint_classifier\\keypoint_classifier.hdf5\n",
      "85/85 [==============================] - 0s 6ms/step - loss: 1.7980 - accuracy: 0.4264 - val_loss: 1.2334 - val_accuracy: 0.6704\n",
      "Epoch 32/1000\n",
      "77/85 [==========================>...] - ETA: 0s - loss: 1.7536 - accuracy: 0.4286\n",
      "Epoch 32: saving model to model/keypoint_classifier\\keypoint_classifier.hdf5\n",
      "85/85 [==============================] - 0s 6ms/step - loss: 1.7617 - accuracy: 0.4274 - val_loss: 1.2143 - val_accuracy: 0.6881\n",
      "Epoch 33/1000\n",
      "69/85 [=======================>......] - ETA: 0s - loss: 1.7840 - accuracy: 0.4325\n",
      "Epoch 33: saving model to model/keypoint_classifier\\keypoint_classifier.hdf5\n",
      "85/85 [==============================] - 0s 5ms/step - loss: 1.7797 - accuracy: 0.4317 - val_loss: 1.2198 - val_accuracy: 0.6792\n",
      "Epoch 34/1000\n",
      "80/85 [===========================>..] - ETA: 0s - loss: 1.7544 - accuracy: 0.4363\n",
      "Epoch 34: saving model to model/keypoint_classifier\\keypoint_classifier.hdf5\n",
      "85/85 [==============================] - 0s 5ms/step - loss: 1.7537 - accuracy: 0.4360 - val_loss: 1.2015 - val_accuracy: 0.6881\n",
      "Epoch 35/1000\n",
      "85/85 [==============================] - ETA: 0s - loss: 1.7657 - accuracy: 0.4346\n",
      "Epoch 35: saving model to model/keypoint_classifier\\keypoint_classifier.hdf5\n",
      "85/85 [==============================] - 0s 5ms/step - loss: 1.7657 - accuracy: 0.4346 - val_loss: 1.2040 - val_accuracy: 0.6989\n",
      "Epoch 36/1000\n",
      "85/85 [==============================] - ETA: 0s - loss: 1.7543 - accuracy: 0.4387\n",
      "Epoch 36: saving model to model/keypoint_classifier\\keypoint_classifier.hdf5\n",
      "85/85 [==============================] - 0s 6ms/step - loss: 1.7543 - accuracy: 0.4387 - val_loss: 1.1845 - val_accuracy: 0.6789\n",
      "Epoch 37/1000\n",
      "82/85 [===========================>..] - ETA: 0s - loss: 1.7269 - accuracy: 0.4405\n",
      "Epoch 37: saving model to model/keypoint_classifier\\keypoint_classifier.hdf5\n",
      "85/85 [==============================] - 0s 6ms/step - loss: 1.7294 - accuracy: 0.4406 - val_loss: 1.1737 - val_accuracy: 0.6978\n",
      "Epoch 38/1000\n",
      "83/85 [============================>.] - ETA: 0s - loss: 1.7393 - accuracy: 0.4415\n",
      "Epoch 38: saving model to model/keypoint_classifier\\keypoint_classifier.hdf5\n",
      "85/85 [==============================] - 0s 5ms/step - loss: 1.7405 - accuracy: 0.4412 - val_loss: 1.1694 - val_accuracy: 0.7044\n",
      "Epoch 39/1000\n",
      "82/85 [===========================>..] - ETA: 0s - loss: 1.7176 - accuracy: 0.4507\n",
      "Epoch 39: saving model to model/keypoint_classifier\\keypoint_classifier.hdf5\n",
      "85/85 [==============================] - 1s 6ms/step - loss: 1.7192 - accuracy: 0.4509 - val_loss: 1.1557 - val_accuracy: 0.6889\n",
      "Epoch 40/1000\n",
      "80/85 [===========================>..] - ETA: 0s - loss: 1.7306 - accuracy: 0.4439\n",
      "Epoch 40: saving model to model/keypoint_classifier\\keypoint_classifier.hdf5\n",
      "85/85 [==============================] - 1s 6ms/step - loss: 1.7323 - accuracy: 0.4426 - val_loss: 1.1577 - val_accuracy: 0.6994\n",
      "Epoch 41/1000\n",
      "83/85 [============================>.] - ETA: 0s - loss: 1.7058 - accuracy: 0.4481\n",
      "Epoch 41: saving model to model/keypoint_classifier\\keypoint_classifier.hdf5\n",
      "85/85 [==============================] - 1s 6ms/step - loss: 1.7060 - accuracy: 0.4483 - val_loss: 1.1511 - val_accuracy: 0.7155\n",
      "Epoch 42/1000\n",
      "83/85 [============================>.] - ETA: 0s - loss: 1.6998 - accuracy: 0.4527\n",
      "Epoch 42: saving model to model/keypoint_classifier\\keypoint_classifier.hdf5\n",
      "85/85 [==============================] - 0s 6ms/step - loss: 1.7010 - accuracy: 0.4528 - val_loss: 1.1384 - val_accuracy: 0.7014\n",
      "Epoch 43/1000\n",
      "71/85 [========================>.....] - ETA: 0s - loss: 1.7058 - accuracy: 0.4522\n",
      "Epoch 43: saving model to model/keypoint_classifier\\keypoint_classifier.hdf5\n",
      "85/85 [==============================] - 1s 6ms/step - loss: 1.7031 - accuracy: 0.4543 - val_loss: 1.1273 - val_accuracy: 0.7177\n",
      "Epoch 44/1000\n",
      "80/85 [===========================>..] - ETA: 0s - loss: 1.7189 - accuracy: 0.4509\n",
      "Epoch 44: saving model to model/keypoint_classifier\\keypoint_classifier.hdf5\n",
      "85/85 [==============================] - 1s 6ms/step - loss: 1.7175 - accuracy: 0.4506 - val_loss: 1.1430 - val_accuracy: 0.7163\n",
      "Epoch 45/1000\n",
      "73/85 [========================>.....] - ETA: 0s - loss: 1.7008 - accuracy: 0.4480\n",
      "Epoch 45: saving model to model/keypoint_classifier\\keypoint_classifier.hdf5\n",
      "85/85 [==============================] - 0s 6ms/step - loss: 1.6985 - accuracy: 0.4465 - val_loss: 1.1306 - val_accuracy: 0.7025\n",
      "Epoch 46/1000\n",
      "76/85 [=========================>....] - ETA: 0s - loss: 1.7066 - accuracy: 0.4484\n",
      "Epoch 46: saving model to model/keypoint_classifier\\keypoint_classifier.hdf5\n",
      "85/85 [==============================] - 0s 6ms/step - loss: 1.7085 - accuracy: 0.4503 - val_loss: 1.1303 - val_accuracy: 0.7113\n",
      "Epoch 47/1000\n",
      "73/85 [========================>.....] - ETA: 0s - loss: 1.7078 - accuracy: 0.4472\n",
      "Epoch 47: saving model to model/keypoint_classifier\\keypoint_classifier.hdf5\n",
      "85/85 [==============================] - 1s 6ms/step - loss: 1.7023 - accuracy: 0.4476 - val_loss: 1.1209 - val_accuracy: 0.7041\n",
      "Epoch 48/1000\n",
      "78/85 [==========================>...] - ETA: 0s - loss: 1.6905 - accuracy: 0.4538\n",
      "Epoch 48: saving model to model/keypoint_classifier\\keypoint_classifier.hdf5\n",
      "85/85 [==============================] - 1s 7ms/step - loss: 1.6888 - accuracy: 0.4539 - val_loss: 1.1045 - val_accuracy: 0.7160\n",
      "Epoch 49/1000\n",
      "79/85 [==========================>...] - ETA: 0s - loss: 1.6796 - accuracy: 0.4578\n",
      "Epoch 49: saving model to model/keypoint_classifier\\keypoint_classifier.hdf5\n",
      "85/85 [==============================] - 1s 6ms/step - loss: 1.6790 - accuracy: 0.4569 - val_loss: 1.1097 - val_accuracy: 0.7102\n",
      "Epoch 50/1000\n",
      "82/85 [===========================>..] - ETA: 0s - loss: 1.6851 - accuracy: 0.4628\n",
      "Epoch 50: saving model to model/keypoint_classifier\\keypoint_classifier.hdf5\n",
      "85/85 [==============================] - 1s 6ms/step - loss: 1.6861 - accuracy: 0.4626 - val_loss: 1.0994 - val_accuracy: 0.7199\n",
      "Epoch 51/1000\n",
      "73/85 [========================>.....] - ETA: 0s - loss: 1.6878 - accuracy: 0.4503\n",
      "Epoch 51: saving model to model/keypoint_classifier\\keypoint_classifier.hdf5\n",
      "85/85 [==============================] - 0s 6ms/step - loss: 1.6806 - accuracy: 0.4545 - val_loss: 1.1029 - val_accuracy: 0.7008\n",
      "Epoch 52/1000\n",
      "72/85 [========================>.....] - ETA: 0s - loss: 1.6825 - accuracy: 0.4593\n",
      "Epoch 52: saving model to model/keypoint_classifier\\keypoint_classifier.hdf5\n",
      "85/85 [==============================] - 0s 6ms/step - loss: 1.6768 - accuracy: 0.4586 - val_loss: 1.0856 - val_accuracy: 0.7157\n",
      "Epoch 53/1000\n",
      "80/85 [===========================>..] - ETA: 0s - loss: 1.6717 - accuracy: 0.4634\n",
      "Epoch 53: saving model to model/keypoint_classifier\\keypoint_classifier.hdf5\n",
      "85/85 [==============================] - 0s 6ms/step - loss: 1.6742 - accuracy: 0.4615 - val_loss: 1.0889 - val_accuracy: 0.7174\n",
      "Epoch 54/1000\n",
      "72/85 [========================>.....] - ETA: 0s - loss: 1.6457 - accuracy: 0.4625\n",
      "Epoch 54: saving model to model/keypoint_classifier\\keypoint_classifier.hdf5\n",
      "85/85 [==============================] - 0s 6ms/step - loss: 1.6471 - accuracy: 0.4629 - val_loss: 1.0768 - val_accuracy: 0.7163\n",
      "Epoch 55/1000\n",
      "78/85 [==========================>...] - ETA: 0s - loss: 1.6386 - accuracy: 0.4708\n",
      "Epoch 55: saving model to model/keypoint_classifier\\keypoint_classifier.hdf5\n",
      "85/85 [==============================] - 0s 6ms/step - loss: 1.6385 - accuracy: 0.4707 - val_loss: 1.0719 - val_accuracy: 0.7312\n",
      "Epoch 56/1000\n",
      "83/85 [============================>.] - ETA: 0s - loss: 1.6463 - accuracy: 0.4696\n",
      "Epoch 56: saving model to model/keypoint_classifier\\keypoint_classifier.hdf5\n",
      "85/85 [==============================] - 1s 6ms/step - loss: 1.6429 - accuracy: 0.4709 - val_loss: 1.0594 - val_accuracy: 0.7002\n",
      "Epoch 57/1000\n",
      "77/85 [==========================>...] - ETA: 0s - loss: 1.6586 - accuracy: 0.4603\n",
      "Epoch 57: saving model to model/keypoint_classifier\\keypoint_classifier.hdf5\n",
      "85/85 [==============================] - 0s 6ms/step - loss: 1.6515 - accuracy: 0.4619 - val_loss: 1.0754 - val_accuracy: 0.6939\n",
      "Epoch 58/1000\n",
      "76/85 [=========================>....] - ETA: 0s - loss: 1.6482 - accuracy: 0.4643\n",
      "Epoch 58: saving model to model/keypoint_classifier\\keypoint_classifier.hdf5\n",
      "85/85 [==============================] - 0s 6ms/step - loss: 1.6396 - accuracy: 0.4685 - val_loss: 1.0480 - val_accuracy: 0.7229\n",
      "Epoch 59/1000\n",
      "84/85 [============================>.] - ETA: 0s - loss: 1.6427 - accuracy: 0.4661\n",
      "Epoch 59: saving model to model/keypoint_classifier\\keypoint_classifier.hdf5\n",
      "85/85 [==============================] - 1s 6ms/step - loss: 1.6445 - accuracy: 0.4658 - val_loss: 1.0716 - val_accuracy: 0.7157\n",
      "Epoch 60/1000\n",
      "76/85 [=========================>....] - ETA: 0s - loss: 1.6383 - accuracy: 0.4663\n",
      "Epoch 60: saving model to model/keypoint_classifier\\keypoint_classifier.hdf5\n",
      "85/85 [==============================] - 0s 6ms/step - loss: 1.6355 - accuracy: 0.4670 - val_loss: 1.0448 - val_accuracy: 0.7279\n",
      "Epoch 61/1000\n",
      "77/85 [==========================>...] - ETA: 0s - loss: 1.6432 - accuracy: 0.4648\n",
      "Epoch 61: saving model to model/keypoint_classifier\\keypoint_classifier.hdf5\n",
      "85/85 [==============================] - 0s 6ms/step - loss: 1.6440 - accuracy: 0.4653 - val_loss: 1.0442 - val_accuracy: 0.7431\n",
      "Epoch 62/1000\n",
      "83/85 [============================>.] - ETA: 0s - loss: 1.6284 - accuracy: 0.4669\n",
      "Epoch 62: saving model to model/keypoint_classifier\\keypoint_classifier.hdf5\n",
      "85/85 [==============================] - 0s 5ms/step - loss: 1.6308 - accuracy: 0.4670 - val_loss: 1.0474 - val_accuracy: 0.7149\n",
      "Epoch 63/1000\n",
      "78/85 [==========================>...] - ETA: 0s - loss: 1.6329 - accuracy: 0.4721\n",
      "Epoch 63: saving model to model/keypoint_classifier\\keypoint_classifier.hdf5\n",
      "85/85 [==============================] - 0s 6ms/step - loss: 1.6318 - accuracy: 0.4723 - val_loss: 1.0528 - val_accuracy: 0.7038\n",
      "Epoch 64/1000\n",
      "81/85 [===========================>..] - ETA: 0s - loss: 1.6209 - accuracy: 0.4744\n",
      "Epoch 64: saving model to model/keypoint_classifier\\keypoint_classifier.hdf5\n",
      "85/85 [==============================] - 0s 6ms/step - loss: 1.6245 - accuracy: 0.4743 - val_loss: 1.0418 - val_accuracy: 0.7337\n",
      "Epoch 65/1000\n",
      "74/85 [=========================>....] - ETA: 0s - loss: 1.6345 - accuracy: 0.4688\n",
      "Epoch 65: saving model to model/keypoint_classifier\\keypoint_classifier.hdf5\n",
      "85/85 [==============================] - 0s 6ms/step - loss: 1.6363 - accuracy: 0.4710 - val_loss: 1.0422 - val_accuracy: 0.7113\n",
      "Epoch 66/1000\n",
      "73/85 [========================>.....] - ETA: 0s - loss: 1.6267 - accuracy: 0.4656\n",
      "Epoch 66: saving model to model/keypoint_classifier\\keypoint_classifier.hdf5\n",
      "85/85 [==============================] - 0s 6ms/step - loss: 1.6266 - accuracy: 0.4664 - val_loss: 1.0283 - val_accuracy: 0.7321\n",
      "Epoch 67/1000\n",
      "74/85 [=========================>....] - ETA: 0s - loss: 1.6227 - accuracy: 0.4754\n",
      "Epoch 67: saving model to model/keypoint_classifier\\keypoint_classifier.hdf5\n",
      "85/85 [==============================] - 1s 6ms/step - loss: 1.6247 - accuracy: 0.4735 - val_loss: 1.0396 - val_accuracy: 0.6989\n",
      "Epoch 68/1000\n",
      "79/85 [==========================>...] - ETA: 0s - loss: 1.6082 - accuracy: 0.4762\n",
      "Epoch 68: saving model to model/keypoint_classifier\\keypoint_classifier.hdf5\n",
      "85/85 [==============================] - 0s 6ms/step - loss: 1.6036 - accuracy: 0.4769 - val_loss: 1.0205 - val_accuracy: 0.7238\n",
      "Epoch 69/1000\n",
      "78/85 [==========================>...] - ETA: 0s - loss: 1.6122 - accuracy: 0.4768\n",
      "Epoch 69: saving model to model/keypoint_classifier\\keypoint_classifier.hdf5\n",
      "85/85 [==============================] - 0s 6ms/step - loss: 1.6103 - accuracy: 0.4785 - val_loss: 1.0287 - val_accuracy: 0.7337\n",
      "Epoch 70/1000\n",
      "79/85 [==========================>...] - ETA: 0s - loss: 1.6173 - accuracy: 0.4757\n",
      "Epoch 70: saving model to model/keypoint_classifier\\keypoint_classifier.hdf5\n",
      "85/85 [==============================] - 0s 6ms/step - loss: 1.6168 - accuracy: 0.4771 - val_loss: 1.0211 - val_accuracy: 0.7232\n",
      "Epoch 71/1000\n",
      "74/85 [=========================>....] - ETA: 0s - loss: 1.6087 - accuracy: 0.4754\n",
      "Epoch 71: saving model to model/keypoint_classifier\\keypoint_classifier.hdf5\n",
      "85/85 [==============================] - 1s 6ms/step - loss: 1.6128 - accuracy: 0.4776 - val_loss: 1.0184 - val_accuracy: 0.7346\n",
      "Epoch 72/1000\n",
      "81/85 [===========================>..] - ETA: 0s - loss: 1.6035 - accuracy: 0.4798\n",
      "Epoch 72: saving model to model/keypoint_classifier\\keypoint_classifier.hdf5\n",
      "85/85 [==============================] - 0s 5ms/step - loss: 1.6062 - accuracy: 0.4783 - val_loss: 1.0145 - val_accuracy: 0.7329\n",
      "Epoch 73/1000\n",
      "83/85 [============================>.] - ETA: 0s - loss: 1.5913 - accuracy: 0.4838\n",
      "Epoch 73: saving model to model/keypoint_classifier\\keypoint_classifier.hdf5\n",
      "85/85 [==============================] - 1s 6ms/step - loss: 1.5940 - accuracy: 0.4830 - val_loss: 1.0197 - val_accuracy: 0.7141\n",
      "Epoch 74/1000\n",
      "79/85 [==========================>...] - ETA: 0s - loss: 1.6007 - accuracy: 0.4823\n",
      "Epoch 74: saving model to model/keypoint_classifier\\keypoint_classifier.hdf5\n",
      "85/85 [==============================] - 1s 6ms/step - loss: 1.6020 - accuracy: 0.4821 - val_loss: 1.0179 - val_accuracy: 0.7351\n",
      "Epoch 75/1000\n",
      "79/85 [==========================>...] - ETA: 0s - loss: 1.6127 - accuracy: 0.4748\n",
      "Epoch 75: saving model to model/keypoint_classifier\\keypoint_classifier.hdf5\n",
      "85/85 [==============================] - 1s 6ms/step - loss: 1.6106 - accuracy: 0.4749 - val_loss: 1.0209 - val_accuracy: 0.7315\n",
      "Epoch 76/1000\n",
      "82/85 [===========================>..] - ETA: 0s - loss: 1.6022 - accuracy: 0.4790\n",
      "Epoch 76: saving model to model/keypoint_classifier\\keypoint_classifier.hdf5\n",
      "85/85 [==============================] - 1s 6ms/step - loss: 1.6035 - accuracy: 0.4786 - val_loss: 1.0096 - val_accuracy: 0.7418\n",
      "Epoch 77/1000\n",
      "75/85 [=========================>....] - ETA: 0s - loss: 1.5912 - accuracy: 0.4802\n",
      "Epoch 77: saving model to model/keypoint_classifier\\keypoint_classifier.hdf5\n",
      "85/85 [==============================] - 1s 6ms/step - loss: 1.5971 - accuracy: 0.4791 - val_loss: 1.0003 - val_accuracy: 0.7393\n",
      "Epoch 78/1000\n",
      "75/85 [=========================>....] - ETA: 0s - loss: 1.5930 - accuracy: 0.4852\n",
      "Epoch 78: saving model to model/keypoint_classifier\\keypoint_classifier.hdf5\n",
      "85/85 [==============================] - 1s 6ms/step - loss: 1.5936 - accuracy: 0.4832 - val_loss: 0.9990 - val_accuracy: 0.7263\n",
      "Epoch 79/1000\n",
      "74/85 [=========================>....] - ETA: 0s - loss: 1.5751 - accuracy: 0.4897\n",
      "Epoch 79: saving model to model/keypoint_classifier\\keypoint_classifier.hdf5\n",
      "85/85 [==============================] - 1s 6ms/step - loss: 1.5812 - accuracy: 0.4870 - val_loss: 1.0113 - val_accuracy: 0.7122\n",
      "Epoch 80/1000\n",
      "74/85 [=========================>....] - ETA: 0s - loss: 1.5785 - accuracy: 0.4861\n",
      "Epoch 80: saving model to model/keypoint_classifier\\keypoint_classifier.hdf5\n",
      "85/85 [==============================] - 1s 6ms/step - loss: 1.5800 - accuracy: 0.4866 - val_loss: 0.9984 - val_accuracy: 0.7473\n",
      "Epoch 81/1000\n",
      "72/85 [========================>.....] - ETA: 0s - loss: 1.5883 - accuracy: 0.4851\n",
      "Epoch 81: saving model to model/keypoint_classifier\\keypoint_classifier.hdf5\n",
      "85/85 [==============================] - 0s 6ms/step - loss: 1.5898 - accuracy: 0.4820 - val_loss: 1.0000 - val_accuracy: 0.7124\n",
      "Epoch 82/1000\n",
      "79/85 [==========================>...] - ETA: 0s - loss: 1.5901 - accuracy: 0.4870\n",
      "Epoch 82: saving model to model/keypoint_classifier\\keypoint_classifier.hdf5\n",
      "85/85 [==============================] - 0s 6ms/step - loss: 1.5911 - accuracy: 0.4874 - val_loss: 0.9918 - val_accuracy: 0.7462\n",
      "Epoch 83/1000\n",
      "83/85 [============================>.] - ETA: 0s - loss: 1.5930 - accuracy: 0.4784\n",
      "Epoch 83: saving model to model/keypoint_classifier\\keypoint_classifier.hdf5\n",
      "85/85 [==============================] - 1s 6ms/step - loss: 1.5930 - accuracy: 0.4791 - val_loss: 0.9960 - val_accuracy: 0.7310\n",
      "Epoch 84/1000\n",
      "82/85 [===========================>..] - ETA: 0s - loss: 1.6016 - accuracy: 0.4807\n",
      "Epoch 84: saving model to model/keypoint_classifier\\keypoint_classifier.hdf5\n",
      "85/85 [==============================] - 0s 6ms/step - loss: 1.5990 - accuracy: 0.4807 - val_loss: 0.9922 - val_accuracy: 0.7315\n",
      "Epoch 85/1000\n",
      "83/85 [============================>.] - ETA: 0s - loss: 1.5852 - accuracy: 0.4836\n",
      "Epoch 85: saving model to model/keypoint_classifier\\keypoint_classifier.hdf5\n",
      "85/85 [==============================] - 1s 6ms/step - loss: 1.5846 - accuracy: 0.4837 - val_loss: 0.9940 - val_accuracy: 0.7257\n",
      "Epoch 86/1000\n",
      "73/85 [========================>.....] - ETA: 0s - loss: 1.5787 - accuracy: 0.4922\n",
      "Epoch 86: saving model to model/keypoint_classifier\\keypoint_classifier.hdf5\n",
      "85/85 [==============================] - 0s 6ms/step - loss: 1.5803 - accuracy: 0.4906 - val_loss: 0.9843 - val_accuracy: 0.7445\n",
      "Epoch 87/1000\n",
      "77/85 [==========================>...] - ETA: 0s - loss: 1.5796 - accuracy: 0.4815\n",
      "Epoch 87: saving model to model/keypoint_classifier\\keypoint_classifier.hdf5\n",
      "85/85 [==============================] - 0s 5ms/step - loss: 1.5771 - accuracy: 0.4834 - val_loss: 0.9792 - val_accuracy: 0.7390\n",
      "Epoch 88/1000\n",
      "80/85 [===========================>..] - ETA: 0s - loss: 1.5809 - accuracy: 0.4906\n",
      "Epoch 88: saving model to model/keypoint_classifier\\keypoint_classifier.hdf5\n",
      "85/85 [==============================] - 0s 5ms/step - loss: 1.5817 - accuracy: 0.4905 - val_loss: 0.9720 - val_accuracy: 0.7600\n",
      "Epoch 89/1000\n",
      "80/85 [===========================>..] - ETA: 0s - loss: 1.5911 - accuracy: 0.4813\n",
      "Epoch 89: saving model to model/keypoint_classifier\\keypoint_classifier.hdf5\n",
      "85/85 [==============================] - 0s 6ms/step - loss: 1.5924 - accuracy: 0.4813 - val_loss: 0.9877 - val_accuracy: 0.7357\n",
      "Epoch 90/1000\n",
      "69/85 [=======================>......] - ETA: 0s - loss: 1.5813 - accuracy: 0.4914\n",
      "Epoch 90: saving model to model/keypoint_classifier\\keypoint_classifier.hdf5\n",
      "85/85 [==============================] - 0s 6ms/step - loss: 1.5833 - accuracy: 0.4889 - val_loss: 0.9737 - val_accuracy: 0.7481\n",
      "Epoch 91/1000\n",
      "75/85 [=========================>....] - ETA: 0s - loss: 1.5603 - accuracy: 0.4935\n",
      "Epoch 91: saving model to model/keypoint_classifier\\keypoint_classifier.hdf5\n",
      "85/85 [==============================] - 0s 6ms/step - loss: 1.5616 - accuracy: 0.4939 - val_loss: 0.9780 - val_accuracy: 0.7177\n",
      "Epoch 92/1000\n",
      "85/85 [==============================] - ETA: 0s - loss: 1.5790 - accuracy: 0.4898\n",
      "Epoch 92: saving model to model/keypoint_classifier\\keypoint_classifier.hdf5\n",
      "85/85 [==============================] - 1s 6ms/step - loss: 1.5790 - accuracy: 0.4898 - val_loss: 0.9739 - val_accuracy: 0.7288\n",
      "Epoch 93/1000\n",
      "79/85 [==========================>...] - ETA: 0s - loss: 1.5539 - accuracy: 0.4946\n",
      "Epoch 93: saving model to model/keypoint_classifier\\keypoint_classifier.hdf5\n",
      "85/85 [==============================] - 0s 5ms/step - loss: 1.5598 - accuracy: 0.4932 - val_loss: 0.9663 - val_accuracy: 0.7232\n",
      "Epoch 94/1000\n",
      "81/85 [===========================>..] - ETA: 0s - loss: 1.5625 - accuracy: 0.4871\n",
      "Epoch 94: saving model to model/keypoint_classifier\\keypoint_classifier.hdf5\n",
      "85/85 [==============================] - 0s 5ms/step - loss: 1.5633 - accuracy: 0.4857 - val_loss: 0.9615 - val_accuracy: 0.7539\n",
      "Epoch 95/1000\n",
      "80/85 [===========================>..] - ETA: 0s - loss: 1.5731 - accuracy: 0.4856\n",
      "Epoch 95: saving model to model/keypoint_classifier\\keypoint_classifier.hdf5\n",
      "85/85 [==============================] - 0s 5ms/step - loss: 1.5717 - accuracy: 0.4858 - val_loss: 0.9638 - val_accuracy: 0.7404\n",
      "Epoch 96/1000\n",
      "70/85 [=======================>......] - ETA: 0s - loss: 1.5741 - accuracy: 0.4863\n",
      "Epoch 96: saving model to model/keypoint_classifier\\keypoint_classifier.hdf5\n",
      "85/85 [==============================] - 0s 5ms/step - loss: 1.5677 - accuracy: 0.4901 - val_loss: 0.9757 - val_accuracy: 0.7335\n",
      "Epoch 97/1000\n",
      "74/85 [=========================>....] - ETA: 0s - loss: 1.5607 - accuracy: 0.4966\n",
      "Epoch 97: saving model to model/keypoint_classifier\\keypoint_classifier.hdf5\n",
      "85/85 [==============================] - 1s 6ms/step - loss: 1.5590 - accuracy: 0.4947 - val_loss: 0.9559 - val_accuracy: 0.7487\n",
      "Epoch 98/1000\n",
      "79/85 [==========================>...] - ETA: 0s - loss: 1.5659 - accuracy: 0.4979\n",
      "Epoch 98: saving model to model/keypoint_classifier\\keypoint_classifier.hdf5\n",
      "85/85 [==============================] - 0s 6ms/step - loss: 1.5653 - accuracy: 0.4974 - val_loss: 0.9618 - val_accuracy: 0.7445\n",
      "Epoch 99/1000\n",
      "77/85 [==========================>...] - ETA: 0s - loss: 1.5586 - accuracy: 0.4890\n",
      "Epoch 99: saving model to model/keypoint_classifier\\keypoint_classifier.hdf5\n",
      "85/85 [==============================] - 0s 6ms/step - loss: 1.5586 - accuracy: 0.4885 - val_loss: 0.9619 - val_accuracy: 0.7426\n",
      "Epoch 100/1000\n",
      "76/85 [=========================>....] - ETA: 0s - loss: 1.5738 - accuracy: 0.4924\n",
      "Epoch 100: saving model to model/keypoint_classifier\\keypoint_classifier.hdf5\n",
      "85/85 [==============================] - 0s 6ms/step - loss: 1.5709 - accuracy: 0.4937 - val_loss: 0.9564 - val_accuracy: 0.7423\n",
      "Epoch 101/1000\n",
      "75/85 [=========================>....] - ETA: 0s - loss: 1.5530 - accuracy: 0.4960\n",
      "Epoch 101: saving model to model/keypoint_classifier\\keypoint_classifier.hdf5\n",
      "85/85 [==============================] - 0s 5ms/step - loss: 1.5470 - accuracy: 0.4965 - val_loss: 0.9425 - val_accuracy: 0.7498\n",
      "Epoch 102/1000\n",
      "79/85 [==========================>...] - ETA: 0s - loss: 1.5437 - accuracy: 0.4960\n",
      "Epoch 102: saving model to model/keypoint_classifier\\keypoint_classifier.hdf5\n",
      "85/85 [==============================] - 0s 6ms/step - loss: 1.5469 - accuracy: 0.4957 - val_loss: 0.9441 - val_accuracy: 0.7520\n",
      "Epoch 103/1000\n",
      "74/85 [=========================>....] - ETA: 0s - loss: 1.5660 - accuracy: 0.4982\n",
      "Epoch 103: saving model to model/keypoint_classifier\\keypoint_classifier.hdf5\n",
      "85/85 [==============================] - 0s 6ms/step - loss: 1.5606 - accuracy: 0.4982 - val_loss: 0.9512 - val_accuracy: 0.7398\n",
      "Epoch 104/1000\n",
      "79/85 [==========================>...] - ETA: 0s - loss: 1.5324 - accuracy: 0.5037\n",
      "Epoch 104: saving model to model/keypoint_classifier\\keypoint_classifier.hdf5\n",
      "85/85 [==============================] - 0s 5ms/step - loss: 1.5348 - accuracy: 0.5021 - val_loss: 0.9405 - val_accuracy: 0.7598\n",
      "Epoch 105/1000\n",
      "77/85 [==========================>...] - ETA: 0s - loss: 1.5481 - accuracy: 0.4998\n",
      "Epoch 105: saving model to model/keypoint_classifier\\keypoint_classifier.hdf5\n",
      "85/85 [==============================] - 0s 6ms/step - loss: 1.5467 - accuracy: 0.5015 - val_loss: 0.9439 - val_accuracy: 0.7614\n",
      "Epoch 106/1000\n",
      "77/85 [==========================>...] - ETA: 0s - loss: 1.5339 - accuracy: 0.5005\n",
      "Epoch 106: saving model to model/keypoint_classifier\\keypoint_classifier.hdf5\n",
      "85/85 [==============================] - 0s 6ms/step - loss: 1.5324 - accuracy: 0.5022 - val_loss: 0.9310 - val_accuracy: 0.7551\n",
      "Epoch 107/1000\n",
      "78/85 [==========================>...] - ETA: 0s - loss: 1.5269 - accuracy: 0.4977\n",
      "Epoch 107: saving model to model/keypoint_classifier\\keypoint_classifier.hdf5\n",
      "85/85 [==============================] - 0s 6ms/step - loss: 1.5275 - accuracy: 0.4970 - val_loss: 0.9300 - val_accuracy: 0.7454\n",
      "Epoch 108/1000\n",
      "75/85 [=========================>....] - ETA: 0s - loss: 1.5462 - accuracy: 0.4991\n",
      "Epoch 108: saving model to model/keypoint_classifier\\keypoint_classifier.hdf5\n",
      "85/85 [==============================] - 0s 6ms/step - loss: 1.5435 - accuracy: 0.4984 - val_loss: 0.9366 - val_accuracy: 0.7581\n",
      "Epoch 109/1000\n",
      "82/85 [===========================>..] - ETA: 0s - loss: 1.5386 - accuracy: 0.5008\n",
      "Epoch 109: saving model to model/keypoint_classifier\\keypoint_classifier.hdf5\n",
      "85/85 [==============================] - 0s 6ms/step - loss: 1.5399 - accuracy: 0.5015 - val_loss: 0.9497 - val_accuracy: 0.7575\n",
      "Epoch 110/1000\n",
      "76/85 [=========================>....] - ETA: 0s - loss: 1.5305 - accuracy: 0.5031\n",
      "Epoch 110: saving model to model/keypoint_classifier\\keypoint_classifier.hdf5\n",
      "85/85 [==============================] - 0s 6ms/step - loss: 1.5461 - accuracy: 0.4996 - val_loss: 0.9442 - val_accuracy: 0.7611\n",
      "Epoch 111/1000\n",
      "75/85 [=========================>....] - ETA: 0s - loss: 1.5372 - accuracy: 0.5032\n",
      "Epoch 111: saving model to model/keypoint_classifier\\keypoint_classifier.hdf5\n",
      "85/85 [==============================] - 0s 6ms/step - loss: 1.5335 - accuracy: 0.5049 - val_loss: 0.9506 - val_accuracy: 0.7495\n",
      "Epoch 112/1000\n",
      "81/85 [===========================>..] - ETA: 0s - loss: 1.5343 - accuracy: 0.4966\n",
      "Epoch 112: saving model to model/keypoint_classifier\\keypoint_classifier.hdf5\n",
      "85/85 [==============================] - 0s 5ms/step - loss: 1.5359 - accuracy: 0.4965 - val_loss: 0.9291 - val_accuracy: 0.7401\n",
      "Epoch 113/1000\n",
      "85/85 [==============================] - ETA: 0s - loss: 1.5279 - accuracy: 0.5005\n",
      "Epoch 113: saving model to model/keypoint_classifier\\keypoint_classifier.hdf5\n",
      "85/85 [==============================] - 0s 6ms/step - loss: 1.5279 - accuracy: 0.5005 - val_loss: 0.9298 - val_accuracy: 0.7534\n",
      "Epoch 114/1000\n",
      "78/85 [==========================>...] - ETA: 0s - loss: 1.5367 - accuracy: 0.5010\n",
      "Epoch 114: saving model to model/keypoint_classifier\\keypoint_classifier.hdf5\n",
      "85/85 [==============================] - 1s 6ms/step - loss: 1.5408 - accuracy: 0.5002 - val_loss: 0.9528 - val_accuracy: 0.7360\n",
      "Epoch 115/1000\n",
      "78/85 [==========================>...] - ETA: 0s - loss: 1.5100 - accuracy: 0.5160\n",
      "Epoch 115: saving model to model/keypoint_classifier\\keypoint_classifier.hdf5\n",
      "85/85 [==============================] - 1s 6ms/step - loss: 1.5103 - accuracy: 0.5158 - val_loss: 0.9207 - val_accuracy: 0.7647\n",
      "Epoch 116/1000\n",
      "77/85 [==========================>...] - ETA: 0s - loss: 1.5331 - accuracy: 0.5003\n",
      "Epoch 116: saving model to model/keypoint_classifier\\keypoint_classifier.hdf5\n",
      "85/85 [==============================] - 0s 6ms/step - loss: 1.5376 - accuracy: 0.4989 - val_loss: 0.9313 - val_accuracy: 0.7473\n",
      "Epoch 117/1000\n",
      "74/85 [=========================>....] - ETA: 0s - loss: 1.5355 - accuracy: 0.4977\n",
      "Epoch 117: saving model to model/keypoint_classifier\\keypoint_classifier.hdf5\n",
      "85/85 [==============================] - 0s 6ms/step - loss: 1.5282 - accuracy: 0.5010 - val_loss: 0.9321 - val_accuracy: 0.7437\n",
      "Epoch 118/1000\n",
      "76/85 [=========================>....] - ETA: 0s - loss: 1.5329 - accuracy: 0.4987\n",
      "Epoch 118: saving model to model/keypoint_classifier\\keypoint_classifier.hdf5\n",
      "85/85 [==============================] - 0s 6ms/step - loss: 1.5300 - accuracy: 0.4997 - val_loss: 0.9331 - val_accuracy: 0.7584\n",
      "Epoch 119/1000\n",
      "80/85 [===========================>..] - ETA: 0s - loss: 1.5143 - accuracy: 0.5112\n",
      "Epoch 119: saving model to model/keypoint_classifier\\keypoint_classifier.hdf5\n",
      "85/85 [==============================] - 0s 6ms/step - loss: 1.5145 - accuracy: 0.5098 - val_loss: 0.9309 - val_accuracy: 0.7670\n",
      "Epoch 120/1000\n",
      "77/85 [==========================>...] - ETA: 0s - loss: 1.5091 - accuracy: 0.5129\n",
      "Epoch 120: saving model to model/keypoint_classifier\\keypoint_classifier.hdf5\n",
      "85/85 [==============================] - 0s 6ms/step - loss: 1.5055 - accuracy: 0.5141 - val_loss: 0.9268 - val_accuracy: 0.7786\n",
      "Epoch 121/1000\n",
      "82/85 [===========================>..] - ETA: 0s - loss: 1.5239 - accuracy: 0.5021\n",
      "Epoch 121: saving model to model/keypoint_classifier\\keypoint_classifier.hdf5\n",
      "85/85 [==============================] - 0s 5ms/step - loss: 1.5266 - accuracy: 0.5012 - val_loss: 0.9134 - val_accuracy: 0.7681\n",
      "Epoch 122/1000\n",
      "80/85 [===========================>..] - ETA: 0s - loss: 1.5130 - accuracy: 0.5069\n",
      "Epoch 122: saving model to model/keypoint_classifier\\keypoint_classifier.hdf5\n",
      "85/85 [==============================] - 0s 5ms/step - loss: 1.5135 - accuracy: 0.5054 - val_loss: 0.9126 - val_accuracy: 0.7595\n",
      "Epoch 123/1000\n",
      "84/85 [============================>.] - ETA: 0s - loss: 1.5243 - accuracy: 0.5038\n",
      "Epoch 123: saving model to model/keypoint_classifier\\keypoint_classifier.hdf5\n",
      "85/85 [==============================] - 0s 5ms/step - loss: 1.5230 - accuracy: 0.5037 - val_loss: 0.9234 - val_accuracy: 0.7479\n",
      "Epoch 124/1000\n",
      "82/85 [===========================>..] - ETA: 0s - loss: 1.4987 - accuracy: 0.5025\n",
      "Epoch 124: saving model to model/keypoint_classifier\\keypoint_classifier.hdf5\n",
      "85/85 [==============================] - 0s 5ms/step - loss: 1.5026 - accuracy: 0.5016 - val_loss: 0.9133 - val_accuracy: 0.7772\n",
      "Epoch 125/1000\n",
      "78/85 [==========================>...] - ETA: 0s - loss: 1.5175 - accuracy: 0.5081\n",
      "Epoch 125: saving model to model/keypoint_classifier\\keypoint_classifier.hdf5\n",
      "85/85 [==============================] - 0s 6ms/step - loss: 1.5139 - accuracy: 0.5081 - val_loss: 0.9124 - val_accuracy: 0.7658\n",
      "Epoch 126/1000\n",
      "73/85 [========================>.....] - ETA: 0s - loss: 1.4927 - accuracy: 0.5131\n",
      "Epoch 126: saving model to model/keypoint_classifier\\keypoint_classifier.hdf5\n",
      "85/85 [==============================] - 0s 6ms/step - loss: 1.5020 - accuracy: 0.5092 - val_loss: 0.9213 - val_accuracy: 0.7609\n",
      "Epoch 127/1000\n",
      "80/85 [===========================>..] - ETA: 0s - loss: 1.5192 - accuracy: 0.5014\n",
      "Epoch 127: saving model to model/keypoint_classifier\\keypoint_classifier.hdf5\n",
      "85/85 [==============================] - 0s 5ms/step - loss: 1.5220 - accuracy: 0.5014 - val_loss: 0.9207 - val_accuracy: 0.7800\n",
      "Epoch 128/1000\n",
      "77/85 [==========================>...] - ETA: 0s - loss: 1.5355 - accuracy: 0.4985\n",
      "Epoch 128: saving model to model/keypoint_classifier\\keypoint_classifier.hdf5\n",
      "85/85 [==============================] - 0s 6ms/step - loss: 1.5383 - accuracy: 0.4969 - val_loss: 0.9214 - val_accuracy: 0.7589\n",
      "Epoch 129/1000\n",
      "81/85 [===========================>..] - ETA: 0s - loss: 1.4993 - accuracy: 0.5070\n",
      "Epoch 129: saving model to model/keypoint_classifier\\keypoint_classifier.hdf5\n",
      "85/85 [==============================] - 0s 5ms/step - loss: 1.4993 - accuracy: 0.5069 - val_loss: 0.9134 - val_accuracy: 0.7556\n",
      "Epoch 130/1000\n",
      "81/85 [===========================>..] - ETA: 0s - loss: 1.5107 - accuracy: 0.5021\n",
      "Epoch 130: saving model to model/keypoint_classifier\\keypoint_classifier.hdf5\n",
      "85/85 [==============================] - 0s 6ms/step - loss: 1.5095 - accuracy: 0.5021 - val_loss: 0.9186 - val_accuracy: 0.7592\n",
      "Epoch 131/1000\n",
      "78/85 [==========================>...] - ETA: 0s - loss: 1.5022 - accuracy: 0.5111\n",
      "Epoch 131: saving model to model/keypoint_classifier\\keypoint_classifier.hdf5\n",
      "85/85 [==============================] - 0s 6ms/step - loss: 1.5021 - accuracy: 0.5102 - val_loss: 0.9065 - val_accuracy: 0.7520\n",
      "Epoch 132/1000\n",
      "71/85 [========================>.....] - ETA: 0s - loss: 1.5008 - accuracy: 0.5059\n",
      "Epoch 132: saving model to model/keypoint_classifier\\keypoint_classifier.hdf5\n",
      "85/85 [==============================] - 0s 5ms/step - loss: 1.5044 - accuracy: 0.5078 - val_loss: 0.9125 - val_accuracy: 0.7470\n",
      "Epoch 133/1000\n",
      "77/85 [==========================>...] - ETA: 0s - loss: 1.5195 - accuracy: 0.4957\n",
      "Epoch 133: saving model to model/keypoint_classifier\\keypoint_classifier.hdf5\n",
      "85/85 [==============================] - 0s 6ms/step - loss: 1.5180 - accuracy: 0.4950 - val_loss: 0.9147 - val_accuracy: 0.7528\n",
      "Epoch 134/1000\n",
      "84/85 [============================>.] - ETA: 0s - loss: 1.4987 - accuracy: 0.5088\n",
      "Epoch 134: saving model to model/keypoint_classifier\\keypoint_classifier.hdf5\n",
      "85/85 [==============================] - 0s 5ms/step - loss: 1.4976 - accuracy: 0.5094 - val_loss: 0.9212 - val_accuracy: 0.7542\n",
      "Epoch 135/1000\n",
      "74/85 [=========================>....] - ETA: 0s - loss: 1.5039 - accuracy: 0.5075\n",
      "Epoch 135: saving model to model/keypoint_classifier\\keypoint_classifier.hdf5\n",
      "85/85 [==============================] - 1s 6ms/step - loss: 1.5073 - accuracy: 0.5053 - val_loss: 0.9141 - val_accuracy: 0.7758\n",
      "Epoch 136/1000\n",
      "82/85 [===========================>..] - ETA: 0s - loss: 1.5060 - accuracy: 0.5043\n",
      "Epoch 136: saving model to model/keypoint_classifier\\keypoint_classifier.hdf5\n",
      "85/85 [==============================] - 1s 6ms/step - loss: 1.5041 - accuracy: 0.5045 - val_loss: 0.9230 - val_accuracy: 0.7467\n",
      "Epoch 137/1000\n",
      "77/85 [==========================>...] - ETA: 0s - loss: 1.5019 - accuracy: 0.5142\n",
      "Epoch 137: saving model to model/keypoint_classifier\\keypoint_classifier.hdf5\n",
      "85/85 [==============================] - 0s 6ms/step - loss: 1.4988 - accuracy: 0.5142 - val_loss: 0.9097 - val_accuracy: 0.7645\n",
      "Epoch 138/1000\n",
      "84/85 [============================>.] - ETA: 0s - loss: 1.5011 - accuracy: 0.5046\n",
      "Epoch 138: saving model to model/keypoint_classifier\\keypoint_classifier.hdf5\n",
      "85/85 [==============================] - 1s 6ms/step - loss: 1.5023 - accuracy: 0.5043 - val_loss: 0.9092 - val_accuracy: 0.7564\n",
      "Epoch 139/1000\n",
      "76/85 [=========================>....] - ETA: 0s - loss: 1.4919 - accuracy: 0.5084\n",
      "Epoch 139: saving model to model/keypoint_classifier\\keypoint_classifier.hdf5\n",
      "85/85 [==============================] - 1s 6ms/step - loss: 1.4971 - accuracy: 0.5069 - val_loss: 0.9040 - val_accuracy: 0.7553\n",
      "Epoch 140/1000\n",
      "77/85 [==========================>...] - ETA: 0s - loss: 1.5050 - accuracy: 0.5078\n",
      "Epoch 140: saving model to model/keypoint_classifier\\keypoint_classifier.hdf5\n",
      "85/85 [==============================] - 0s 6ms/step - loss: 1.5036 - accuracy: 0.5096 - val_loss: 0.9254 - val_accuracy: 0.7739\n",
      "Epoch 141/1000\n",
      "79/85 [==========================>...] - ETA: 0s - loss: 1.5042 - accuracy: 0.5000\n",
      "Epoch 141: saving model to model/keypoint_classifier\\keypoint_classifier.hdf5\n",
      "85/85 [==============================] - 0s 6ms/step - loss: 1.5114 - accuracy: 0.4988 - val_loss: 0.8984 - val_accuracy: 0.7844\n",
      "Epoch 142/1000\n",
      "79/85 [==========================>...] - ETA: 0s - loss: 1.5085 - accuracy: 0.5091\n",
      "Epoch 142: saving model to model/keypoint_classifier\\keypoint_classifier.hdf5\n",
      "85/85 [==============================] - 0s 5ms/step - loss: 1.5042 - accuracy: 0.5105 - val_loss: 0.8970 - val_accuracy: 0.7750\n",
      "Epoch 143/1000\n",
      "76/85 [=========================>....] - ETA: 0s - loss: 1.5186 - accuracy: 0.5025\n",
      "Epoch 143: saving model to model/keypoint_classifier\\keypoint_classifier.hdf5\n",
      "85/85 [==============================] - 0s 6ms/step - loss: 1.5229 - accuracy: 0.5002 - val_loss: 0.9052 - val_accuracy: 0.7515\n",
      "Epoch 144/1000\n",
      "71/85 [========================>.....] - ETA: 0s - loss: 1.5052 - accuracy: 0.5089\n",
      "Epoch 144: saving model to model/keypoint_classifier\\keypoint_classifier.hdf5\n",
      "85/85 [==============================] - 0s 5ms/step - loss: 1.5124 - accuracy: 0.5066 - val_loss: 0.9090 - val_accuracy: 0.7523\n",
      "Epoch 145/1000\n",
      "80/85 [===========================>..] - ETA: 0s - loss: 1.4983 - accuracy: 0.5098\n",
      "Epoch 145: saving model to model/keypoint_classifier\\keypoint_classifier.hdf5\n",
      "85/85 [==============================] - 0s 5ms/step - loss: 1.4961 - accuracy: 0.5117 - val_loss: 0.9063 - val_accuracy: 0.7741\n",
      "Epoch 146/1000\n",
      "75/85 [=========================>....] - ETA: 0s - loss: 1.4860 - accuracy: 0.5073\n",
      "Epoch 146: saving model to model/keypoint_classifier\\keypoint_classifier.hdf5\n",
      "85/85 [==============================] - 0s 6ms/step - loss: 1.4877 - accuracy: 0.5088 - val_loss: 0.8923 - val_accuracy: 0.7849\n",
      "Epoch 147/1000\n",
      "78/85 [==========================>...] - ETA: 0s - loss: 1.4848 - accuracy: 0.5119\n",
      "Epoch 147: saving model to model/keypoint_classifier\\keypoint_classifier.hdf5\n",
      "85/85 [==============================] - 0s 5ms/step - loss: 1.4929 - accuracy: 0.5099 - val_loss: 0.8931 - val_accuracy: 0.7797\n",
      "Epoch 148/1000\n",
      "83/85 [============================>.] - ETA: 0s - loss: 1.4870 - accuracy: 0.5138\n",
      "Epoch 148: saving model to model/keypoint_classifier\\keypoint_classifier.hdf5\n",
      "85/85 [==============================] - 0s 5ms/step - loss: 1.4903 - accuracy: 0.5134 - val_loss: 0.9062 - val_accuracy: 0.7589\n",
      "Epoch 149/1000\n",
      "81/85 [===========================>..] - ETA: 0s - loss: 1.5017 - accuracy: 0.5075\n",
      "Epoch 149: saving model to model/keypoint_classifier\\keypoint_classifier.hdf5\n",
      "85/85 [==============================] - 0s 6ms/step - loss: 1.5024 - accuracy: 0.5078 - val_loss: 0.9182 - val_accuracy: 0.7686\n",
      "Epoch 150/1000\n",
      "82/85 [===========================>..] - ETA: 0s - loss: 1.4901 - accuracy: 0.5087\n",
      "Epoch 150: saving model to model/keypoint_classifier\\keypoint_classifier.hdf5\n",
      "85/85 [==============================] - 0s 5ms/step - loss: 1.4902 - accuracy: 0.5090 - val_loss: 0.8924 - val_accuracy: 0.7689\n",
      "Epoch 151/1000\n",
      "79/85 [==========================>...] - ETA: 0s - loss: 1.5002 - accuracy: 0.5117\n",
      "Epoch 151: saving model to model/keypoint_classifier\\keypoint_classifier.hdf5\n",
      "85/85 [==============================] - 0s 6ms/step - loss: 1.5048 - accuracy: 0.5114 - val_loss: 0.9176 - val_accuracy: 0.7390\n",
      "Epoch 152/1000\n",
      "83/85 [============================>.] - ETA: 0s - loss: 1.4923 - accuracy: 0.5114\n",
      "Epoch 152: saving model to model/keypoint_classifier\\keypoint_classifier.hdf5\n",
      "85/85 [==============================] - 1s 6ms/step - loss: 1.4942 - accuracy: 0.5102 - val_loss: 0.8956 - val_accuracy: 0.7598\n",
      "Epoch 153/1000\n",
      "78/85 [==========================>...] - ETA: 0s - loss: 1.4840 - accuracy: 0.5149\n",
      "Epoch 153: saving model to model/keypoint_classifier\\keypoint_classifier.hdf5\n",
      "85/85 [==============================] - 0s 6ms/step - loss: 1.4816 - accuracy: 0.5150 - val_loss: 0.9128 - val_accuracy: 0.7620\n",
      "Epoch 154/1000\n",
      "74/85 [=========================>....] - ETA: 0s - loss: 1.4662 - accuracy: 0.5208\n",
      "Epoch 154: saving model to model/keypoint_classifier\\keypoint_classifier.hdf5\n",
      "85/85 [==============================] - 0s 5ms/step - loss: 1.4681 - accuracy: 0.5194 - val_loss: 0.8987 - val_accuracy: 0.7539\n",
      "Epoch 155/1000\n",
      "78/85 [==========================>...] - ETA: 0s - loss: 1.4803 - accuracy: 0.5161\n",
      "Epoch 155: saving model to model/keypoint_classifier\\keypoint_classifier.hdf5\n",
      "85/85 [==============================] - 0s 5ms/step - loss: 1.4913 - accuracy: 0.5135 - val_loss: 0.9036 - val_accuracy: 0.7672\n",
      "Epoch 156/1000\n",
      "69/85 [=======================>......] - ETA: 0s - loss: 1.4954 - accuracy: 0.5037\n",
      "Epoch 156: saving model to model/keypoint_classifier\\keypoint_classifier.hdf5\n",
      "85/85 [==============================] - 0s 6ms/step - loss: 1.4855 - accuracy: 0.5105 - val_loss: 0.9091 - val_accuracy: 0.7401\n",
      "Epoch 157/1000\n",
      "83/85 [============================>.] - ETA: 0s - loss: 1.4867 - accuracy: 0.5092\n",
      "Epoch 157: saving model to model/keypoint_classifier\\keypoint_classifier.hdf5\n",
      "85/85 [==============================] - 0s 5ms/step - loss: 1.4877 - accuracy: 0.5095 - val_loss: 0.8950 - val_accuracy: 0.7722\n",
      "Epoch 158/1000\n",
      "82/85 [===========================>..] - ETA: 0s - loss: 1.4828 - accuracy: 0.5110\n",
      "Epoch 158: saving model to model/keypoint_classifier\\keypoint_classifier.hdf5\n",
      "85/85 [==============================] - 0s 5ms/step - loss: 1.4839 - accuracy: 0.5112 - val_loss: 0.8946 - val_accuracy: 0.7863\n",
      "Epoch 159/1000\n",
      "85/85 [==============================] - ETA: 0s - loss: 1.4754 - accuracy: 0.5162\n",
      "Epoch 159: saving model to model/keypoint_classifier\\keypoint_classifier.hdf5\n",
      "85/85 [==============================] - 0s 5ms/step - loss: 1.4754 - accuracy: 0.5162 - val_loss: 0.9019 - val_accuracy: 0.7681\n",
      "Epoch 160/1000\n",
      "75/85 [=========================>....] - ETA: 0s - loss: 1.4973 - accuracy: 0.5085\n",
      "Epoch 160: saving model to model/keypoint_classifier\\keypoint_classifier.hdf5\n",
      "85/85 [==============================] - 0s 6ms/step - loss: 1.4894 - accuracy: 0.5108 - val_loss: 0.9097 - val_accuracy: 0.7747\n",
      "Epoch 161/1000\n",
      "77/85 [==========================>...] - ETA: 0s - loss: 1.4908 - accuracy: 0.5118\n",
      "Epoch 161: saving model to model/keypoint_classifier\\keypoint_classifier.hdf5\n",
      "85/85 [==============================] - 0s 5ms/step - loss: 1.4869 - accuracy: 0.5123 - val_loss: 0.8965 - val_accuracy: 0.7722\n",
      "Epoch 162/1000\n",
      "85/85 [==============================] - ETA: 0s - loss: 1.4785 - accuracy: 0.5076\n",
      "Epoch 162: saving model to model/keypoint_classifier\\keypoint_classifier.hdf5\n",
      "85/85 [==============================] - 0s 5ms/step - loss: 1.4785 - accuracy: 0.5076 - val_loss: 0.9016 - val_accuracy: 0.7501\n",
      "Epoch 163/1000\n",
      "84/85 [============================>.] - ETA: 0s - loss: 1.4922 - accuracy: 0.5102\n",
      "Epoch 163: saving model to model/keypoint_classifier\\keypoint_classifier.hdf5\n",
      "85/85 [==============================] - 0s 5ms/step - loss: 1.4926 - accuracy: 0.5102 - val_loss: 0.8830 - val_accuracy: 0.7775\n",
      "Epoch 164/1000\n",
      "82/85 [===========================>..] - ETA: 0s - loss: 1.4809 - accuracy: 0.5132\n",
      "Epoch 164: saving model to model/keypoint_classifier\\keypoint_classifier.hdf5\n",
      "85/85 [==============================] - 0s 5ms/step - loss: 1.4779 - accuracy: 0.5144 - val_loss: 0.8965 - val_accuracy: 0.7631\n",
      "Epoch 165/1000\n",
      "81/85 [===========================>..] - ETA: 0s - loss: 1.4922 - accuracy: 0.5166\n",
      "Epoch 165: saving model to model/keypoint_classifier\\keypoint_classifier.hdf5\n",
      "85/85 [==============================] - 0s 5ms/step - loss: 1.4862 - accuracy: 0.5184 - val_loss: 0.8962 - val_accuracy: 0.7667\n",
      "Epoch 166/1000\n",
      "74/85 [=========================>....] - ETA: 0s - loss: 1.4707 - accuracy: 0.5248\n",
      "Epoch 166: saving model to model/keypoint_classifier\\keypoint_classifier.hdf5\n",
      "85/85 [==============================] - 0s 5ms/step - loss: 1.4762 - accuracy: 0.5219 - val_loss: 0.8836 - val_accuracy: 0.7883\n",
      "Epoch 167/1000\n",
      "82/85 [===========================>..] - ETA: 0s - loss: 1.4871 - accuracy: 0.5087\n",
      "Epoch 167: saving model to model/keypoint_classifier\\keypoint_classifier.hdf5\n",
      "85/85 [==============================] - 0s 6ms/step - loss: 1.4848 - accuracy: 0.5091 - val_loss: 0.8944 - val_accuracy: 0.7706\n",
      "Epoch 168/1000\n",
      "80/85 [===========================>..] - ETA: 0s - loss: 1.4922 - accuracy: 0.5137\n",
      "Epoch 168: saving model to model/keypoint_classifier\\keypoint_classifier.hdf5\n",
      "85/85 [==============================] - 0s 5ms/step - loss: 1.4901 - accuracy: 0.5153 - val_loss: 0.8863 - val_accuracy: 0.7551\n",
      "Epoch 169/1000\n",
      "81/85 [===========================>..] - ETA: 0s - loss: 1.4859 - accuracy: 0.5149\n",
      "Epoch 169: saving model to model/keypoint_classifier\\keypoint_classifier.hdf5\n",
      "85/85 [==============================] - 0s 6ms/step - loss: 1.4796 - accuracy: 0.5161 - val_loss: 0.8840 - val_accuracy: 0.7739\n",
      "Epoch 170/1000\n",
      "81/85 [===========================>..] - ETA: 0s - loss: 1.4711 - accuracy: 0.5110\n",
      "Epoch 170: saving model to model/keypoint_classifier\\keypoint_classifier.hdf5\n",
      "85/85 [==============================] - 0s 5ms/step - loss: 1.4713 - accuracy: 0.5121 - val_loss: 0.8887 - val_accuracy: 0.7700\n",
      "Epoch 171/1000\n",
      "80/85 [===========================>..] - ETA: 0s - loss: 1.4727 - accuracy: 0.5130\n",
      "Epoch 171: saving model to model/keypoint_classifier\\keypoint_classifier.hdf5\n",
      "85/85 [==============================] - 0s 5ms/step - loss: 1.4739 - accuracy: 0.5133 - val_loss: 0.8961 - val_accuracy: 0.7753\n",
      "Epoch 172/1000\n",
      "84/85 [============================>.] - ETA: 0s - loss: 1.4626 - accuracy: 0.5168\n",
      "Epoch 172: saving model to model/keypoint_classifier\\keypoint_classifier.hdf5\n",
      "85/85 [==============================] - 0s 6ms/step - loss: 1.4635 - accuracy: 0.5168 - val_loss: 0.8869 - val_accuracy: 0.7717\n",
      "Epoch 173/1000\n",
      "77/85 [==========================>...] - ETA: 0s - loss: 1.4694 - accuracy: 0.5150\n",
      "Epoch 173: saving model to model/keypoint_classifier\\keypoint_classifier.hdf5\n",
      "85/85 [==============================] - 0s 6ms/step - loss: 1.4708 - accuracy: 0.5164 - val_loss: 0.8924 - val_accuracy: 0.7667\n",
      "Epoch 174/1000\n",
      "80/85 [===========================>..] - ETA: 0s - loss: 1.4670 - accuracy: 0.5177\n",
      "Epoch 174: saving model to model/keypoint_classifier\\keypoint_classifier.hdf5\n",
      "85/85 [==============================] - 0s 6ms/step - loss: 1.4652 - accuracy: 0.5173 - val_loss: 0.8855 - val_accuracy: 0.7706\n",
      "Epoch 175/1000\n",
      "82/85 [===========================>..] - ETA: 0s - loss: 1.4718 - accuracy: 0.5151\n",
      "Epoch 175: saving model to model/keypoint_classifier\\keypoint_classifier.hdf5\n",
      "85/85 [==============================] - 0s 6ms/step - loss: 1.4716 - accuracy: 0.5137 - val_loss: 0.8988 - val_accuracy: 0.7670\n",
      "Epoch 176/1000\n",
      "76/85 [=========================>....] - ETA: 0s - loss: 1.4729 - accuracy: 0.5195\n",
      "Epoch 176: saving model to model/keypoint_classifier\\keypoint_classifier.hdf5\n",
      "85/85 [==============================] - 0s 6ms/step - loss: 1.4709 - accuracy: 0.5198 - val_loss: 0.8905 - val_accuracy: 0.7697\n",
      "Epoch 177/1000\n",
      "79/85 [==========================>...] - ETA: 0s - loss: 1.4611 - accuracy: 0.5228\n",
      "Epoch 177: saving model to model/keypoint_classifier\\keypoint_classifier.hdf5\n",
      "85/85 [==============================] - 0s 5ms/step - loss: 1.4606 - accuracy: 0.5227 - val_loss: 0.8901 - val_accuracy: 0.7739\n",
      "Epoch 178/1000\n",
      "85/85 [==============================] - ETA: 0s - loss: 1.4632 - accuracy: 0.5173\n",
      "Epoch 178: saving model to model/keypoint_classifier\\keypoint_classifier.hdf5\n",
      "85/85 [==============================] - 0s 5ms/step - loss: 1.4632 - accuracy: 0.5173 - val_loss: 0.8917 - val_accuracy: 0.7769\n",
      "Epoch 179/1000\n",
      "79/85 [==========================>...] - ETA: 0s - loss: 1.4690 - accuracy: 0.5197\n",
      "Epoch 179: saving model to model/keypoint_classifier\\keypoint_classifier.hdf5\n",
      "85/85 [==============================] - 0s 6ms/step - loss: 1.4665 - accuracy: 0.5194 - val_loss: 0.8794 - val_accuracy: 0.7827\n",
      "Epoch 180/1000\n",
      "79/85 [==========================>...] - ETA: 0s - loss: 1.4577 - accuracy: 0.5219\n",
      "Epoch 180: saving model to model/keypoint_classifier\\keypoint_classifier.hdf5\n",
      "85/85 [==============================] - 0s 5ms/step - loss: 1.4579 - accuracy: 0.5210 - val_loss: 0.8889 - val_accuracy: 0.7772\n",
      "Epoch 181/1000\n",
      "73/85 [========================>.....] - ETA: 0s - loss: 1.4578 - accuracy: 0.5154\n",
      "Epoch 181: saving model to model/keypoint_classifier\\keypoint_classifier.hdf5\n",
      "85/85 [==============================] - 0s 5ms/step - loss: 1.4618 - accuracy: 0.5140 - val_loss: 0.8758 - val_accuracy: 0.7872\n",
      "Epoch 182/1000\n",
      "76/85 [=========================>....] - ETA: 0s - loss: 1.4586 - accuracy: 0.5188\n",
      "Epoch 182: saving model to model/keypoint_classifier\\keypoint_classifier.hdf5\n",
      "85/85 [==============================] - 0s 6ms/step - loss: 1.4584 - accuracy: 0.5185 - val_loss: 0.8900 - val_accuracy: 0.7706\n",
      "Epoch 183/1000\n",
      "76/85 [=========================>....] - ETA: 0s - loss: 1.4465 - accuracy: 0.5245\n",
      "Epoch 183: saving model to model/keypoint_classifier\\keypoint_classifier.hdf5\n",
      "85/85 [==============================] - 1s 6ms/step - loss: 1.4507 - accuracy: 0.5228 - val_loss: 0.8790 - val_accuracy: 0.7747\n",
      "Epoch 184/1000\n",
      "72/85 [========================>.....] - ETA: 0s - loss: 1.4641 - accuracy: 0.5173\n",
      "Epoch 184: saving model to model/keypoint_classifier\\keypoint_classifier.hdf5\n",
      "85/85 [==============================] - 0s 5ms/step - loss: 1.4705 - accuracy: 0.5169 - val_loss: 0.8823 - val_accuracy: 0.7611\n",
      "Epoch 185/1000\n",
      "84/85 [============================>.] - ETA: 0s - loss: 1.4657 - accuracy: 0.5165\n",
      "Epoch 185: saving model to model/keypoint_classifier\\keypoint_classifier.hdf5\n",
      "85/85 [==============================] - 0s 5ms/step - loss: 1.4646 - accuracy: 0.5166 - val_loss: 0.8949 - val_accuracy: 0.7706\n",
      "Epoch 186/1000\n",
      "77/85 [==========================>...] - ETA: 0s - loss: 1.4659 - accuracy: 0.5169\n",
      "Epoch 186: saving model to model/keypoint_classifier\\keypoint_classifier.hdf5\n",
      "85/85 [==============================] - 0s 6ms/step - loss: 1.4645 - accuracy: 0.5158 - val_loss: 0.8966 - val_accuracy: 0.7661\n",
      "Epoch 187/1000\n",
      "75/85 [=========================>....] - ETA: 0s - loss: 1.4552 - accuracy: 0.5172\n",
      "Epoch 187: saving model to model/keypoint_classifier\\keypoint_classifier.hdf5\n",
      "85/85 [==============================] - 0s 6ms/step - loss: 1.4645 - accuracy: 0.5138 - val_loss: 0.8933 - val_accuracy: 0.7678\n",
      "Epoch 188/1000\n",
      "77/85 [==========================>...] - ETA: 0s - loss: 1.4637 - accuracy: 0.5149\n",
      "Epoch 188: saving model to model/keypoint_classifier\\keypoint_classifier.hdf5\n",
      "85/85 [==============================] - 0s 6ms/step - loss: 1.4670 - accuracy: 0.5135 - val_loss: 0.8932 - val_accuracy: 0.7523\n",
      "Epoch 189/1000\n",
      "79/85 [==========================>...] - ETA: 0s - loss: 1.4476 - accuracy: 0.5256\n",
      "Epoch 189: saving model to model/keypoint_classifier\\keypoint_classifier.hdf5\n",
      "85/85 [==============================] - 0s 6ms/step - loss: 1.4539 - accuracy: 0.5232 - val_loss: 0.8821 - val_accuracy: 0.7805\n",
      "Epoch 190/1000\n",
      "85/85 [==============================] - ETA: 0s - loss: 1.4594 - accuracy: 0.5199\n",
      "Epoch 190: saving model to model/keypoint_classifier\\keypoint_classifier.hdf5\n",
      "85/85 [==============================] - 0s 5ms/step - loss: 1.4594 - accuracy: 0.5199 - val_loss: 0.8640 - val_accuracy: 0.7935\n",
      "Epoch 191/1000\n",
      "82/85 [===========================>..] - ETA: 0s - loss: 1.4517 - accuracy: 0.5201\n",
      "Epoch 191: saving model to model/keypoint_classifier\\keypoint_classifier.hdf5\n",
      "85/85 [==============================] - 0s 6ms/step - loss: 1.4502 - accuracy: 0.5203 - val_loss: 0.8804 - val_accuracy: 0.7916\n",
      "Epoch 192/1000\n",
      "82/85 [===========================>..] - ETA: 0s - loss: 1.4561 - accuracy: 0.5241\n",
      "Epoch 192: saving model to model/keypoint_classifier\\keypoint_classifier.hdf5\n",
      "85/85 [==============================] - 0s 6ms/step - loss: 1.4535 - accuracy: 0.5246 - val_loss: 0.8811 - val_accuracy: 0.7844\n",
      "Epoch 193/1000\n",
      "79/85 [==========================>...] - ETA: 0s - loss: 1.4387 - accuracy: 0.5288\n",
      "Epoch 193: saving model to model/keypoint_classifier\\keypoint_classifier.hdf5\n",
      "85/85 [==============================] - 0s 6ms/step - loss: 1.4413 - accuracy: 0.5269 - val_loss: 0.8757 - val_accuracy: 0.7595\n",
      "Epoch 194/1000\n",
      "75/85 [=========================>....] - ETA: 0s - loss: 1.4506 - accuracy: 0.5247\n",
      "Epoch 194: saving model to model/keypoint_classifier\\keypoint_classifier.hdf5\n",
      "85/85 [==============================] - 0s 6ms/step - loss: 1.4463 - accuracy: 0.5269 - val_loss: 0.8776 - val_accuracy: 0.7982\n",
      "Epoch 195/1000\n",
      "84/85 [============================>.] - ETA: 0s - loss: 1.4496 - accuracy: 0.5233\n",
      "Epoch 195: saving model to model/keypoint_classifier\\keypoint_classifier.hdf5\n",
      "85/85 [==============================] - 0s 5ms/step - loss: 1.4498 - accuracy: 0.5235 - val_loss: 0.8910 - val_accuracy: 0.7628\n",
      "Epoch 196/1000\n",
      "82/85 [===========================>..] - ETA: 0s - loss: 1.4533 - accuracy: 0.5235\n",
      "Epoch 196: saving model to model/keypoint_classifier\\keypoint_classifier.hdf5\n",
      "85/85 [==============================] - 0s 6ms/step - loss: 1.4528 - accuracy: 0.5237 - val_loss: 0.8789 - val_accuracy: 0.7758\n",
      "Epoch 197/1000\n",
      "72/85 [========================>.....] - ETA: 0s - loss: 1.4512 - accuracy: 0.5252\n",
      "Epoch 197: saving model to model/keypoint_classifier\\keypoint_classifier.hdf5\n",
      "85/85 [==============================] - 0s 5ms/step - loss: 1.4522 - accuracy: 0.5248 - val_loss: 0.8690 - val_accuracy: 0.7968\n",
      "Epoch 198/1000\n",
      "68/85 [=======================>......] - ETA: 0s - loss: 1.4566 - accuracy: 0.5170\n",
      "Epoch 198: saving model to model/keypoint_classifier\\keypoint_classifier.hdf5\n",
      "85/85 [==============================] - 0s 5ms/step - loss: 1.4501 - accuracy: 0.5188 - val_loss: 0.8899 - val_accuracy: 0.7739\n",
      "Epoch 199/1000\n",
      "82/85 [===========================>..] - ETA: 0s - loss: 1.4573 - accuracy: 0.5201\n",
      "Epoch 199: saving model to model/keypoint_classifier\\keypoint_classifier.hdf5\n",
      "85/85 [==============================] - 0s 5ms/step - loss: 1.4571 - accuracy: 0.5197 - val_loss: 0.8932 - val_accuracy: 0.7456\n",
      "Epoch 200/1000\n",
      "83/85 [============================>.] - ETA: 0s - loss: 1.4570 - accuracy: 0.5217\n",
      "Epoch 200: saving model to model/keypoint_classifier\\keypoint_classifier.hdf5\n",
      "85/85 [==============================] - 0s 5ms/step - loss: 1.4536 - accuracy: 0.5225 - val_loss: 0.8842 - val_accuracy: 0.7611\n",
      "Epoch 201/1000\n",
      "72/85 [========================>.....] - ETA: 0s - loss: 1.4635 - accuracy: 0.5182\n",
      "Epoch 201: saving model to model/keypoint_classifier\\keypoint_classifier.hdf5\n",
      "85/85 [==============================] - 0s 6ms/step - loss: 1.4579 - accuracy: 0.5191 - val_loss: 0.8943 - val_accuracy: 0.7678\n",
      "Epoch 202/1000\n",
      "78/85 [==========================>...] - ETA: 0s - loss: 1.4605 - accuracy: 0.5185\n",
      "Epoch 202: saving model to model/keypoint_classifier\\keypoint_classifier.hdf5\n",
      "85/85 [==============================] - 0s 5ms/step - loss: 1.4649 - accuracy: 0.5188 - val_loss: 0.8885 - val_accuracy: 0.7650\n",
      "Epoch 203/1000\n",
      "83/85 [============================>.] - ETA: 0s - loss: 1.4563 - accuracy: 0.5176\n",
      "Epoch 203: saving model to model/keypoint_classifier\\keypoint_classifier.hdf5\n",
      "85/85 [==============================] - 0s 5ms/step - loss: 1.4530 - accuracy: 0.5186 - val_loss: 0.8895 - val_accuracy: 0.7556\n",
      "Epoch 204/1000\n",
      "84/85 [============================>.] - ETA: 0s - loss: 1.4641 - accuracy: 0.5263\n",
      "Epoch 204: saving model to model/keypoint_classifier\\keypoint_classifier.hdf5\n",
      "85/85 [==============================] - 0s 5ms/step - loss: 1.4640 - accuracy: 0.5266 - val_loss: 0.8929 - val_accuracy: 0.7717\n",
      "Epoch 205/1000\n",
      "78/85 [==========================>...] - ETA: 0s - loss: 1.4558 - accuracy: 0.5158\n",
      "Epoch 205: saving model to model/keypoint_classifier\\keypoint_classifier.hdf5\n",
      "85/85 [==============================] - 0s 6ms/step - loss: 1.4565 - accuracy: 0.5150 - val_loss: 0.8760 - val_accuracy: 0.7777\n",
      "Epoch 206/1000\n",
      "80/85 [===========================>..] - ETA: 0s - loss: 1.4399 - accuracy: 0.5240\n",
      "Epoch 206: saving model to model/keypoint_classifier\\keypoint_classifier.hdf5\n",
      "85/85 [==============================] - 0s 5ms/step - loss: 1.4447 - accuracy: 0.5230 - val_loss: 0.8908 - val_accuracy: 0.7755\n",
      "Epoch 207/1000\n",
      "82/85 [===========================>..] - ETA: 0s - loss: 1.4611 - accuracy: 0.5175\n",
      "Epoch 207: saving model to model/keypoint_classifier\\keypoint_classifier.hdf5\n",
      "85/85 [==============================] - 0s 5ms/step - loss: 1.4578 - accuracy: 0.5183 - val_loss: 0.8876 - val_accuracy: 0.7556\n",
      "Epoch 208/1000\n",
      "74/85 [=========================>....] - ETA: 0s - loss: 1.4554 - accuracy: 0.5210\n",
      "Epoch 208: saving model to model/keypoint_classifier\\keypoint_classifier.hdf5\n",
      "85/85 [==============================] - 0s 5ms/step - loss: 1.4638 - accuracy: 0.5206 - val_loss: 0.8831 - val_accuracy: 0.7791\n",
      "Epoch 209/1000\n",
      "82/85 [===========================>..] - ETA: 0s - loss: 1.4494 - accuracy: 0.5228\n",
      "Epoch 209: saving model to model/keypoint_classifier\\keypoint_classifier.hdf5\n",
      "85/85 [==============================] - 0s 6ms/step - loss: 1.4468 - accuracy: 0.5245 - val_loss: 0.8818 - val_accuracy: 0.7658\n",
      "Epoch 210/1000\n",
      "73/85 [========================>.....] - ETA: 0s - loss: 1.4502 - accuracy: 0.5242\n",
      "Epoch 210: saving model to model/keypoint_classifier\\keypoint_classifier.hdf5\n",
      "85/85 [==============================] - 0s 5ms/step - loss: 1.4492 - accuracy: 0.5221 - val_loss: 0.8774 - val_accuracy: 0.7946\n",
      "Epoch 210: early stopping\n"
     ]
    },
    {
     "data": {
      "text/plain": [
       "<keras.src.callbacks.History at 0x1953e56eeb0>"
      ]
     },
     "execution_count": 12,
     "metadata": {},
     "output_type": "execute_result"
    }
   ],
   "source": [
    "model.fit(\n",
    "    X_train,\n",
    "    y_train,\n",
    "    epochs=1000,\n",
    "    batch_size=128,\n",
    "    validation_data=(X_test, y_test),\n",
    "    callbacks=[cp_callback, es_callback]\n",
    ")"
   ]
  },
  {
   "cell_type": "code",
   "execution_count": 13,
   "metadata": {
    "colab": {
     "base_uri": "https://localhost:8080/"
    },
    "id": "pxvb2Y299hE3",
    "outputId": "59eb3185-2e37-4b9e-bc9d-ab1b8ac29b7f"
   },
   "outputs": [
    {
     "name": "stdout",
     "output_type": "stream",
     "text": [
      "29/29 [==============================] - 0s 3ms/step - loss: 0.8774 - accuracy: 0.7946\n"
     ]
    }
   ],
   "source": [
    "# Model evaluation\n",
    "val_loss, val_acc = model.evaluate(X_test, y_test, batch_size=128)"
   ]
  },
  {
   "cell_type": "code",
   "execution_count": 14,
   "metadata": {
    "id": "RBkmDeUW9hE4"
   },
   "outputs": [],
   "source": [
    "#  Cell used for loading the saved model\n",
    "model = tf.keras.models.load_model(model_save_path)"
   ]
  },
  {
   "cell_type": "code",
   "execution_count": 15,
   "metadata": {
    "colab": {
     "base_uri": "https://localhost:8080/"
    },
    "id": "tFz9Tb0I9hE4",
    "outputId": "1c3b3528-54ae-4ee2-ab04-77429211cbef"
   },
   "outputs": [
    {
     "name": "stdout",
     "output_type": "stream",
     "text": [
      "1/1 [==============================] - 0s 198ms/step\n",
      "[5.25465402e-05 1.12130409e-02 1.19938675e-04 6.06157293e-04\n",
      " 9.95437149e-04 3.95308575e-03 2.98559054e-04 2.33431663e-02\n",
      " 5.49424039e-05 1.48926465e-05 2.00440988e-01 1.07578426e-05\n",
      " 1.53348816e-03 2.35705427e-03 2.56470579e-04 2.75173653e-02\n",
      " 7.65532255e-04 8.98372382e-03 1.58691037e-04 2.15280379e-04\n",
      " 3.72723848e-01 2.23741338e-01 9.83253792e-02 2.34505441e-03\n",
      " 7.86895453e-06 4.90401639e-04 9.44395579e-05 3.99864791e-03\n",
      " 3.01615481e-04 7.18616229e-06 4.23402933e-04 5.79716172e-03\n",
      " 8.85255821e-03]\n",
      "20\n"
     ]
    }
   ],
   "source": [
    "# Inference test\n",
    "predict_result = model.predict(np.array([X_test[0]]))\n",
    "print(np.squeeze(predict_result))\n",
    "print(np.argmax(np.squeeze(predict_result)))"
   ]
  },
  {
   "cell_type": "markdown",
   "metadata": {
    "id": "S3U4yNWx9hE4"
   },
   "source": [
    "# Confusion matrix"
   ]
  },
  {
   "cell_type": "code",
   "execution_count": 16,
   "metadata": {
    "colab": {
     "base_uri": "https://localhost:8080/",
     "height": 582
    },
    "id": "AP1V6SCk9hE5",
    "outputId": "08e41a80-7a4a-4619-8125-ecc371368d19"
   },
   "outputs": [
    {
     "name": "stdout",
     "output_type": "stream",
     "text": [
      "113/113 [==============================] - 0s 2ms/step\n"
     ]
    },
    {
     "data": {
      "image/png": "[encoded data removed]",
      "text/plain": [
       "<Figure size 1500x2000 with 2 Axes>"
      ]
     },
     "metadata": {},
     "output_type": "display_data"
    },
    {
     "name": "stdout",
     "output_type": "stream",
     "text": [
      "Classification Report\n",
      "              precision    recall  f1-score   support\n",
      "\n",
      "           0       1.00      0.18      0.30        62\n",
      "           1       0.51      0.95      0.66        78\n",
      "           2       0.99      0.80      0.88        85\n",
      "           3       0.93      0.66      0.77        65\n",
      "           4       0.71      0.10      0.18        49\n",
      "           5       0.00      0.00      0.00        49\n",
      "           6       0.00      0.00      0.00        40\n",
      "           7       1.00      0.58      0.73        33\n",
      "           8       0.91      0.85      0.88        48\n",
      "           9       0.00      0.00      0.00        44\n",
      "          10       0.92      0.93      0.93       130\n",
      "          11       0.87      0.99      0.93       111\n",
      "          12       1.00      0.99      0.99       156\n",
      "          13       0.99      0.97      0.98       120\n",
      "          14       0.87      1.00      0.93       165\n",
      "          15       0.79      0.84      0.82       174\n",
      "          16       0.92      0.96      0.94       139\n",
      "          17       0.96      0.68      0.80        98\n",
      "          18       0.56      1.00      0.72       133\n",
      "          19       0.94      1.00      0.97       104\n",
      "          20       0.53      1.00      0.70       104\n",
      "          21       0.72      0.13      0.21       103\n",
      "          22       0.98      0.97      0.98       141\n",
      "          23       0.68      0.56      0.61       180\n",
      "          24       0.63      0.69      0.66       112\n",
      "          25       0.67      0.94      0.78       138\n",
      "          26       0.89      0.98      0.93       109\n",
      "          27       0.81      0.99      0.89       186\n",
      "          28       0.88      0.46      0.60       151\n",
      "          29       0.76      1.00      0.87       149\n",
      "          30       0.67      0.77      0.72       145\n",
      "          31       0.96      1.00      0.98        71\n",
      "          32       0.87      0.75      0.81       141\n",
      "\n",
      "    accuracy                           0.79      3613\n",
      "   macro avg       0.76      0.72      0.70      3613\n",
      "weighted avg       0.79      0.79      0.77      3613\n",
      "\n"
     ]
    },
    {
     "name": "stderr",
     "output_type": "stream",
     "text": [
      "C:\\Users\\mohan\\AppData\\Local\\Programs\\Python\\Python39\\lib\\site-packages\\sklearn\\metrics\\_classification.py:1509: UndefinedMetricWarning: Precision is ill-defined and being set to 0.0 in labels with no predicted samples. Use `zero_division` parameter to control this behavior.\n",
      "  _warn_prf(average, modifier, f\"{metric.capitalize()} is\", len(result))\n",
      "C:\\Users\\mohan\\AppData\\Local\\Programs\\Python\\Python39\\lib\\site-packages\\sklearn\\metrics\\_classification.py:1509: UndefinedMetricWarning: Precision is ill-defined and being set to 0.0 in labels with no predicted samples. Use `zero_division` parameter to control this behavior.\n",
      "  _warn_prf(average, modifier, f\"{metric.capitalize()} is\", len(result))\n",
      "C:\\Users\\mohan\\AppData\\Local\\Programs\\Python\\Python39\\lib\\site-packages\\sklearn\\metrics\\_classification.py:1509: UndefinedMetricWarning: Precision is ill-defined and being set to 0.0 in labels with no predicted samples. Use `zero_division` parameter to control this behavior.\n",
      "  _warn_prf(average, modifier, f\"{metric.capitalize()} is\", len(result))\n"
     ]
    }
   ],
   "source": [
    "import pandas as pd\n",
    "import seaborn as sns\n",
    "import matplotlib.pyplot as plt\n",
    "from sklearn.metrics import confusion_matrix, classification_report\n",
    "\n",
    "def print_confusion_matrix(y_true, y_pred, report=True):\n",
    "    labels = sorted(list(set(y_true)))\n",
    "    cmx_data = confusion_matrix(y_true, y_pred, labels=labels)\n",
    "    \n",
    "    df_cmx = pd.DataFrame(cmx_data, index=labels, columns=labels)\n",
    " \n",
    "    fig, ax = plt.subplots(figsize=(15, 20))\n",
    "    sns.heatmap(df_cmx, annot=True, fmt='g' ,square=False)\n",
    "    ax.set_ylim(len(set(y_true)), 0)\n",
    "    plt.show()\n",
    "    \n",
    "    if report:\n",
    "        print('Classification Report')\n",
    "        print(classification_report(y_test, y_pred))\n",
    "\n",
    "Y_pred = model.predict(X_test)\n",
    "y_pred = np.argmax(Y_pred, axis=1)\n",
    "\n",
    "print_confusion_matrix(y_test, y_pred)"
   ]
  },
  {
   "cell_type": "markdown",
   "metadata": {
    "id": "FNP6aqzc9hE5"
   },
   "source": [
    "# Convert to model for Tensorflow-Lite"
   ]
  },
  {
   "cell_type": "code",
   "execution_count": 17,
   "metadata": {
    "id": "ODjnYyld9hE6"
   },
   "outputs": [
    {
     "name": "stderr",
     "output_type": "stream",
     "text": [
      "C:\\Users\\mohan\\AppData\\Local\\Programs\\Python\\Python39\\lib\\site-packages\\keras\\src\\engine\\training.py:3103: UserWarning: You are saving your model as an HDF5 file via `model.save()`. This file format is considered legacy. We recommend using instead the native Keras format, e.g. `model.save('my_model.keras')`.\n",
      "  saving_api.save_model(\n"
     ]
    }
   ],
   "source": [
    "model.save(model_save_path, include_optimizer=False)"
   ]
  },
  {
   "cell_type": "code",
   "execution_count": 18,
   "metadata": {
    "colab": {
     "base_uri": "https://localhost:8080/"
    },
    "id": "zRfuK8Y59hE6",
    "outputId": "a4ca585c-b5d5-4244-8291-8674063209bb"
   },
   "outputs": [
    {
     "name": "stdout",
     "output_type": "stream",
     "text": [
      "INFO:tensorflow:Assets written to: C:\\Users\\mohan\\AppData\\Local\\Temp\\tmphug7j5nn\\assets\n"
     ]
    },
    {
     "name": "stderr",
     "output_type": "stream",
     "text": [
      "INFO:tensorflow:Assets written to: C:\\Users\\mohan\\AppData\\Local\\Temp\\tmphug7j5nn\\assets\n"
     ]
    },
    {
     "data": {
      "text/plain": [
       "7820"
      ]
     },
     "execution_count": 18,
     "metadata": {},
     "output_type": "execute_result"
    }
   ],
   "source": [
    "converter = tf.lite.TFLiteConverter.from_keras_model(model)\n",
    "converter.optimizations = [tf.lite.Optimize.DEFAULT]\n",
    "tflite_quantized_model = converter.convert()\n",
    "open(tflite_save_path, 'wb').write(tflite_quantized_model)"
   ]
  },
  {
   "cell_type": "markdown",
   "metadata": {
    "id": "CHBPBXdx9hE6"
   },
   "source": [
    "# Inference test"
   ]
  },
  {
   "cell_type": "code",
   "execution_count": 19,
   "metadata": {
    "id": "mGAzLocO9hE7"
   },
   "outputs": [],
   "source": [
    "interpreter = tf.lite.Interpreter(model_path=tflite_save_path)\n",
    "interpreter.allocate_tensors()"
   ]
  },
  {
   "cell_type": "code",
   "execution_count": 20,
   "metadata": {
    "id": "oQuDK8YS9hE7"
   },
   "outputs": [],
   "source": [
    "input_details = interpreter.get_input_details()\n",
    "output_details = interpreter.get_output_details()"
   ]
  },
  {
   "cell_type": "code",
   "execution_count": 21,
   "metadata": {
    "id": "2_ixAf_l9hE7"
   },
   "outputs": [],
   "source": [
    "interpreter.set_tensor(input_details[0]['index'], np.array([X_test[0]]))"
   ]
  },
  {
   "cell_type": "code",
   "execution_count": 22,
   "metadata": {
    "colab": {
     "base_uri": "https://localhost:8080/"
    },
    "id": "s4FoAnuc9hE7",
    "outputId": "91f18257-8d8b-4ef3-c558-e9b5f94fabbf",
    "scrolled": true
   },
   "outputs": [
    {
     "name": "stdout",
     "output_type": "stream",
     "text": [
      "CPU times: total: 15.6 ms\n",
      "Wall time: 1.62 ms\n"
     ]
    }
   ],
   "source": [
    "%%time\n",
    "# Implementation of the inference \n",
    "interpreter.invoke()\n",
    "tflite_results = interpreter.get_tensor(output_details[0]['index'])"
   ]
  },
  {
   "cell_type": "code",
   "execution_count": 23,
   "metadata": {
    "colab": {
     "base_uri": "https://localhost:8080/"
    },
    "id": "vONjp19J9hE8",
    "outputId": "77205e24-fd00-42c4-f7b6-e06e527c2cba"
   },
   "outputs": [
    {
     "name": "stdout",
     "output_type": "stream",
     "text": [
      "[5.2546442e-05 1.1213032e-02 1.1993857e-04 6.0615625e-04 9.9543575e-04\n",
      " 3.9530830e-03 2.9855865e-04 2.3343164e-02 5.4942309e-05 1.4892619e-05\n",
      " 2.0044102e-01 1.0757793e-05 1.5334869e-03 2.3570524e-03 2.5647014e-04\n",
      " 2.7517356e-02 7.6553173e-04 8.9837220e-03 1.5869076e-04 2.1528022e-04\n",
      " 3.7272391e-01 2.2374131e-01 9.8325342e-02 2.3450514e-03 7.8689327e-06\n",
      " 4.9040053e-04 9.4439303e-05 3.9986488e-03 3.0161536e-04 7.1861568e-06\n",
      " 4.2340299e-04 5.7971575e-03 8.8525526e-03]\n",
      "20\n"
     ]
    }
   ],
   "source": [
    "print(np.squeeze(tflite_results))\n",
    "print(np.argmax(np.squeeze(tflite_results)))"
   ]
  }
 ],
 "metadata": {
  "accelerator": "GPU",
  "colab": {
   "collapsed_sections": [],
   "name": "keypoint_classification_EN.ipynb",
   "provenance": [],
   "toc_visible": true
  },
  "kernelspec": {
   "display_name": "Python 3 (ipykernel)",
   "language": "python",
   "name": "python3"
  },
  "language_info": {
   "codemirror_mode": {
    "name": "ipython",
    "version": 3
   },
   "file_extension": ".py",
   "mimetype": "text/x-python",
   "name": "python",
   "nbconvert_exporter": "python",
   "pygments_lexer": "ipython3",
   "version": "3.9.13"
  }
 },
 "nbformat": 4,
 "nbformat_minor": 4
}
